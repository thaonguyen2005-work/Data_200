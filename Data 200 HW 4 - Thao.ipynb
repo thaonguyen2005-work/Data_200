{
 "cells": [
  {
   "cell_type": "markdown",
   "metadata": {},
   "source": [
    "# Data 200: Data Systems for Data Analytics (Spring 2025)\n"
   ]
  },
  {
   "cell_type": "code",
   "execution_count": null,
   "metadata": {},
   "outputs": [],
   "source": [
    "# Homework 4: Descriptive Statistics in Python\n",
    "\n",
    "\n",
    "<font color='red'>**Due Date and Time:** 11:59 pm on Monday, 2/17/2025 </font>\n",
    "---\n",
    "Enter your name in the markdown cell below."
   ]
  },
  {
   "cell_type": "markdown",
   "metadata": {},
   "source": [
    "# Name: Thao "
   ]
  },
  {
   "cell_type": "code",
   "execution_count": 2,
   "metadata": {},
   "outputs": [
    {
     "data": {
      "text/html": [
       "<style>\n",
       "blockquote { background: #AEDE94; }\n",
       "h1 { \n",
       "    padding-top: 25px;\n",
       "    padding-bottom: 25px;\n",
       "    text-align: left; \n",
       "    padding-left: 10px;\n",
       "    background-color: #DDDDDD; \n",
       "    color: black;\n",
       "}\n",
       "h2 { \n",
       "    padding-top: 10px;\n",
       "    padding-bottom: 10px;\n",
       "    text-align: left; \n",
       "    padding-left: 5px;\n",
       "    background-color: #EEEEEE; \n",
       "    color: black;\n",
       "}\n",
       "\n",
       "div.exercise {\n",
       "\tbackground-color: #ffcccc;\n",
       "\tborder-color: #E9967A; \t\n",
       "\tborder-left: 5px solid #800080; \n",
       "\tpadding: 0.5em;\n",
       "}\n",
       "\n",
       "div.exercise-r {\n",
       "\tbackground-color: #fce8e8;\n",
       "\tborder-color: #E9967A; \t\n",
       "\tborder-left: 5px solid #800080; \n",
       "\tpadding: 0.5em;\n",
       "}\n",
       "\n",
       "\n",
       "span.sub-q {\n",
       "\tfont-weight: bold;\n",
       "}\n",
       "div.theme {\n",
       "\tbackground-color: #DDDDDD;\n",
       "\tborder-color: #E9967A; \t\n",
       "\tborder-left: 5px solid #800080; \n",
       "\tpadding: 0.5em;\n",
       "\tfont-size: 18pt;\n",
       "}\n",
       "div.gc { \n",
       "\tbackground-color: #AEDE94;\n",
       "\tborder-color: #E9967A; \t \n",
       "\tborder-left: 5px solid #800080; \n",
       "\tpadding: 0.5em;\n",
       "\tfont-size: 12pt;\n",
       "}\n",
       "p.q1 { \n",
       "    padding-top: 5px;\n",
       "    padding-bottom: 5px;\n",
       "    text-align: left; \n",
       "    padding-left: 5px;\n",
       "    background-color: #EEEEEE; \n",
       "    color: black;\n",
       "}\n",
       "header {\n",
       "   padding-top: 35px;\n",
       "    padding-bottom: 35px;\n",
       "    text-align: left; \n",
       "    padding-left: 10px;\n",
       "    background-color: #DDDDDD; \n",
       "    color: black;\n",
       "}\n",
       "</style>\n",
       "\n"
      ],
      "text/plain": [
       "<IPython.core.display.HTML object>"
      ]
     },
     "execution_count": 2,
     "metadata": {},
     "output_type": "execute_result"
    }
   ],
   "source": [
    "## RUN THIS CELL TO GET THE RIGHT FORMATTING AND TO LOAD NumPy\n",
    "import requests\n",
    "import numpy as np\n",
    "from IPython.core.display import HTML\n",
    "styles = requests.get(\"https://raw.githubusercontent.com/Harvard-IACS/2018-CS109A/master/content/styles/cs109.css\").text\n",
    "HTML(styles)"
   ]
  },
  {
   "cell_type": "markdown",
   "metadata": {},
   "source": [
    "# Tasks\n",
    "\n",
    "- Complete the `Data200_Stat-in-Python` Activity **before** starting the exercises. ___OPTIONAL___\n",
    "- Review pages 99-112 in the Course Notes.\n",
    "- Complete the **Aggregating DataFrames** and the **Slicing and Indexing DataFrames** chapters of the **Data Manipulation with Pandas** course on DataCamp\n",
    "- Submit completed Jupyter notebook on Moodle."
   ]
  },
  {
   "cell_type": "markdown",
   "metadata": {},
   "source": [
    "# Exercises"
   ]
  },
  {
   "cell_type": "markdown",
   "metadata": {},
   "source": [
    "Numerous studies have shown that exposure to light at night is harmful to human health.  A recent study  in mice shows that even low-level light at night can interfere with normal eating and sleeping cycles.  Furthermore, the study finds that food is especially fattening if consumed at the wrong time of day, at least in mice.  In the study 27 mice were randomly split into three groups. One group was on a normal light-dark cycle (LD), one group had a bright light on all the time (LL), and one group had light during the day and dim light at night (DM).  The dim light was equivalent to having a television set on in a room.\n",
    "\n",
    "**Run the code cell below**, which loads in the data corresponding to this study."
   ]
  },
  {
   "cell_type": "code",
   "execution_count": 4,
   "metadata": {},
   "outputs": [
    {
     "data": {
      "text/html": [
       "<div>\n",
       "<style scoped>\n",
       "    .dataframe tbody tr th:only-of-type {\n",
       "        vertical-align: middle;\n",
       "    }\n",
       "\n",
       "    .dataframe tbody tr th {\n",
       "        vertical-align: top;\n",
       "    }\n",
       "\n",
       "    .dataframe thead th {\n",
       "        text-align: right;\n",
       "    }\n",
       "</style>\n",
       "<table border=\"1\" class=\"dataframe\">\n",
       "  <thead>\n",
       "    <tr style=\"text-align: right;\">\n",
       "      <th></th>\n",
       "      <th>Light</th>\n",
       "      <th>BMGain</th>\n",
       "      <th>DayPct</th>\n",
       "      <th>Consumption</th>\n",
       "      <th>GlucoseInt</th>\n",
       "      <th>Activity</th>\n",
       "    </tr>\n",
       "  </thead>\n",
       "  <tbody>\n",
       "    <tr>\n",
       "      <th>0</th>\n",
       "      <td>LL</td>\n",
       "      <td>9.89</td>\n",
       "      <td>71.552</td>\n",
       "      <td>3.387</td>\n",
       "      <td>Yes</td>\n",
       "      <td>5752</td>\n",
       "    </tr>\n",
       "    <tr>\n",
       "      <th>1</th>\n",
       "      <td>DM</td>\n",
       "      <td>10.20</td>\n",
       "      <td>40.848</td>\n",
       "      <td>3.414</td>\n",
       "      <td>No</td>\n",
       "      <td>1409</td>\n",
       "    </tr>\n",
       "    <tr>\n",
       "      <th>2</th>\n",
       "      <td>LD</td>\n",
       "      <td>5.02</td>\n",
       "      <td>31.063</td>\n",
       "      <td>3.791</td>\n",
       "      <td>No</td>\n",
       "      <td>1437</td>\n",
       "    </tr>\n",
       "    <tr>\n",
       "      <th>3</th>\n",
       "      <td>LL</td>\n",
       "      <td>9.58</td>\n",
       "      <td>61.453</td>\n",
       "      <td>3.451</td>\n",
       "      <td>No</td>\n",
       "      <td>1256</td>\n",
       "    </tr>\n",
       "    <tr>\n",
       "      <th>4</th>\n",
       "      <td>DM</td>\n",
       "      <td>7.29</td>\n",
       "      <td>47.450</td>\n",
       "      <td>3.219</td>\n",
       "      <td>Yes</td>\n",
       "      <td>509</td>\n",
       "    </tr>\n",
       "  </tbody>\n",
       "</table>\n",
       "</div>"
      ],
      "text/plain": [
       "  Light  BMGain  DayPct  Consumption GlucoseInt  Activity\n",
       "0    LL    9.89  71.552        3.387        Yes      5752\n",
       "1    DM   10.20  40.848        3.414         No      1409\n",
       "2    LD    5.02  31.063        3.791         No      1437\n",
       "3    LL    9.58  61.453        3.451         No      1256\n",
       "4    DM    7.29  47.450        3.219        Yes       509"
      ]
     },
     "execution_count": 4,
     "metadata": {},
     "output_type": "execute_result"
    }
   ],
   "source": [
    "import matplotlib.pyplot as plt\n",
    "import pandas as pd\n",
    "\n",
    "mouseLight = pd.read_csv('MouseLight.csv')\n",
    "mouseLight.head()"
   ]
  },
  {
   "cell_type": "markdown",
   "metadata": {},
   "source": [
    "This dataset consists of 27 observations on the following variables. \n",
    "\n",
    "- `Light`: </t>DM = dim light at night, LD = dark at night, or LL = bright light at night <br>\n",
    "- `BMGain`: </t>Body mass gain (in grams over a four week period)  <br>\n",
    "- `DayPct`: </t>Percent of calories eaten during the day  <br>\n",
    "- `Consumption`: </t>Daily food consumption (grams)  <br>\n",
    "- `GlucoseInt`: </t>Was mouse classified as glucose intolerant at the end of the study? No or Yes <br>\n",
    "- `Activity`: </t>A measure of physical activity level  <br>\n"
   ]
  },
  {
   "cell_type": "markdown",
   "metadata": {},
   "source": [
    "<div class=\"exercise\"><b>Exercise 1</b></div> \n",
    "\n",
    "Compute and print the descriptive statistics for the amount of food consumed (`Consumption`) by the mice in each of the three different light groups (`Light`).  You should use the `groupby()` function.\n",
    "    \n",
    "The output from my solution is as follows: <br>\n",
    "\n",
    "<code>\n",
    "      Consumption                                                            \n",
    "            count      mean       std    min      25%     50%      75%    max\n",
    "Light                                                                        \n",
    "DM           10.0  4.124100  0.693795  3.219  3.59350  4.0440  4.60325  5.324\n",
    "LD            8.0  4.327500  0.433703  3.791  3.98375  4.2885  4.58925  4.946\n",
    "LL            9.0  4.514889  1.314899  3.387  3.47900  4.2400  4.87300  7.177</code>"
   ]
  },
  {
   "cell_type": "code",
   "execution_count": 8,
   "metadata": {},
   "outputs": [
    {
     "data": {
      "text/html": [
       "<div>\n",
       "<style scoped>\n",
       "    .dataframe tbody tr th:only-of-type {\n",
       "        vertical-align: middle;\n",
       "    }\n",
       "\n",
       "    .dataframe tbody tr th {\n",
       "        vertical-align: top;\n",
       "    }\n",
       "\n",
       "    .dataframe thead tr th {\n",
       "        text-align: left;\n",
       "    }\n",
       "\n",
       "    .dataframe thead tr:last-of-type th {\n",
       "        text-align: right;\n",
       "    }\n",
       "</style>\n",
       "<table border=\"1\" class=\"dataframe\">\n",
       "  <thead>\n",
       "    <tr>\n",
       "      <th></th>\n",
       "      <th colspan=\"8\" halign=\"left\">Consumption</th>\n",
       "    </tr>\n",
       "    <tr>\n",
       "      <th></th>\n",
       "      <th>count</th>\n",
       "      <th>mean</th>\n",
       "      <th>std</th>\n",
       "      <th>min</th>\n",
       "      <th>25%</th>\n",
       "      <th>50%</th>\n",
       "      <th>75%</th>\n",
       "      <th>max</th>\n",
       "    </tr>\n",
       "    <tr>\n",
       "      <th>Light</th>\n",
       "      <th></th>\n",
       "      <th></th>\n",
       "      <th></th>\n",
       "      <th></th>\n",
       "      <th></th>\n",
       "      <th></th>\n",
       "      <th></th>\n",
       "      <th></th>\n",
       "    </tr>\n",
       "  </thead>\n",
       "  <tbody>\n",
       "    <tr>\n",
       "      <th>DM</th>\n",
       "      <td>10.0</td>\n",
       "      <td>4.124100</td>\n",
       "      <td>0.693795</td>\n",
       "      <td>3.219</td>\n",
       "      <td>3.59350</td>\n",
       "      <td>4.0440</td>\n",
       "      <td>4.60325</td>\n",
       "      <td>5.324</td>\n",
       "    </tr>\n",
       "    <tr>\n",
       "      <th>LD</th>\n",
       "      <td>8.0</td>\n",
       "      <td>4.327500</td>\n",
       "      <td>0.433703</td>\n",
       "      <td>3.791</td>\n",
       "      <td>3.98375</td>\n",
       "      <td>4.2885</td>\n",
       "      <td>4.58925</td>\n",
       "      <td>4.946</td>\n",
       "    </tr>\n",
       "    <tr>\n",
       "      <th>LL</th>\n",
       "      <td>9.0</td>\n",
       "      <td>4.514889</td>\n",
       "      <td>1.314899</td>\n",
       "      <td>3.387</td>\n",
       "      <td>3.47900</td>\n",
       "      <td>4.2400</td>\n",
       "      <td>4.87300</td>\n",
       "      <td>7.177</td>\n",
       "    </tr>\n",
       "  </tbody>\n",
       "</table>\n",
       "</div>"
      ],
      "text/plain": [
       "      Consumption                                                            \n",
       "            count      mean       std    min      25%     50%      75%    max\n",
       "Light                                                                        \n",
       "DM           10.0  4.124100  0.693795  3.219  3.59350  4.0440  4.60325  5.324\n",
       "LD            8.0  4.327500  0.433703  3.791  3.98375  4.2885  4.58925  4.946\n",
       "LL            9.0  4.514889  1.314899  3.387  3.47900  4.2400  4.87300  7.177"
      ]
     },
     "execution_count": 8,
     "metadata": {},
     "output_type": "execute_result"
    }
   ],
   "source": [
    "mouseLight[['Consumption', 'Light']].groupby('Light').describe()"
   ]
  },
  {
   "cell_type": "markdown",
   "metadata": {},
   "source": [
    "**Would you agree that on average, the mice consumed *roughly* the same amount of food regardless of the light cycle? Explain in the markdown cell below.**"
   ]
  },
  {
   "cell_type": "markdown",
   "metadata": {},
   "source": [
    "Yes, the mice consumed roughly the same amount of food regardless of the light cycle because the mean consumption values for each light cycle are relatively close to each other (DM: 4.124100, LD: 4.327500, LL: 4.514889). However, I notice that the standard deviation for LL (1.314899) is higher than that of DM (0.693795) and LD (0.433703), suggesting greater variablility in the food consumption under the LL condiiton. Despite that, the light cycle did not have a significant impact on the food consumption. "
   ]
  },
  {
   "cell_type": "markdown",
   "metadata": {},
   "source": [
    "<div class=\"exercise\"><b>Exercise 2</b></div> \n",
    "\n",
    "Compute and print the descriptive statistics for the amount of physical activity of the mice (`Activity`) in each of the three different light groups (`Light`).  \n",
    "\n",
    "The output from my solution is:<br>\n",
    "\n",
    "<code>\n",
    "      Activity                                                             \\\n",
    "         count         mean          std    min      25%     50%      75%   \n",
    "Light                                                                       \n",
    "DM        10.0  2502.900000  1999.383597  509.0  1492.75  1844.5  2537.75   \n",
    "LD         8.0  2432.875000  2266.448035  346.0   839.75  1543.0  3365.00   \n",
    "LL         9.0  2862.111111  2418.241274  153.0   931.00  2657.0  4482.00   \n",
    "</code><code>         \n",
    "          max  \n",
    "Light          \n",
    "DM     7253.0  \n",
    "LD     6048.0  \n",
    "LL     6702.0 </code>"
   ]
  },
  {
   "cell_type": "code",
   "execution_count": 13,
   "metadata": {},
   "outputs": [
    {
     "data": {
      "text/html": [
       "<div>\n",
       "<style scoped>\n",
       "    .dataframe tbody tr th:only-of-type {\n",
       "        vertical-align: middle;\n",
       "    }\n",
       "\n",
       "    .dataframe tbody tr th {\n",
       "        vertical-align: top;\n",
       "    }\n",
       "\n",
       "    .dataframe thead tr th {\n",
       "        text-align: left;\n",
       "    }\n",
       "\n",
       "    .dataframe thead tr:last-of-type th {\n",
       "        text-align: right;\n",
       "    }\n",
       "</style>\n",
       "<table border=\"1\" class=\"dataframe\">\n",
       "  <thead>\n",
       "    <tr>\n",
       "      <th></th>\n",
       "      <th colspan=\"8\" halign=\"left\">Activity</th>\n",
       "    </tr>\n",
       "    <tr>\n",
       "      <th></th>\n",
       "      <th>count</th>\n",
       "      <th>mean</th>\n",
       "      <th>std</th>\n",
       "      <th>min</th>\n",
       "      <th>25%</th>\n",
       "      <th>50%</th>\n",
       "      <th>75%</th>\n",
       "      <th>max</th>\n",
       "    </tr>\n",
       "    <tr>\n",
       "      <th>Light</th>\n",
       "      <th></th>\n",
       "      <th></th>\n",
       "      <th></th>\n",
       "      <th></th>\n",
       "      <th></th>\n",
       "      <th></th>\n",
       "      <th></th>\n",
       "      <th></th>\n",
       "    </tr>\n",
       "  </thead>\n",
       "  <tbody>\n",
       "    <tr>\n",
       "      <th>DM</th>\n",
       "      <td>10.0</td>\n",
       "      <td>2502.900000</td>\n",
       "      <td>1999.383597</td>\n",
       "      <td>509.0</td>\n",
       "      <td>1492.75</td>\n",
       "      <td>1844.5</td>\n",
       "      <td>2537.75</td>\n",
       "      <td>7253.0</td>\n",
       "    </tr>\n",
       "    <tr>\n",
       "      <th>LD</th>\n",
       "      <td>8.0</td>\n",
       "      <td>2432.875000</td>\n",
       "      <td>2266.448035</td>\n",
       "      <td>346.0</td>\n",
       "      <td>839.75</td>\n",
       "      <td>1543.0</td>\n",
       "      <td>3365.00</td>\n",
       "      <td>6048.0</td>\n",
       "    </tr>\n",
       "    <tr>\n",
       "      <th>LL</th>\n",
       "      <td>9.0</td>\n",
       "      <td>2862.111111</td>\n",
       "      <td>2418.241274</td>\n",
       "      <td>153.0</td>\n",
       "      <td>931.00</td>\n",
       "      <td>2657.0</td>\n",
       "      <td>4482.00</td>\n",
       "      <td>6702.0</td>\n",
       "    </tr>\n",
       "  </tbody>\n",
       "</table>\n",
       "</div>"
      ],
      "text/plain": [
       "      Activity                                                             \\\n",
       "         count         mean          std    min      25%     50%      75%   \n",
       "Light                                                                       \n",
       "DM        10.0  2502.900000  1999.383597  509.0  1492.75  1844.5  2537.75   \n",
       "LD         8.0  2432.875000  2266.448035  346.0   839.75  1543.0  3365.00   \n",
       "LL         9.0  2862.111111  2418.241274  153.0   931.00  2657.0  4482.00   \n",
       "\n",
       "               \n",
       "          max  \n",
       "Light          \n",
       "DM     7253.0  \n",
       "LD     6048.0  \n",
       "LL     6702.0  "
      ]
     },
     "execution_count": 13,
     "metadata": {},
     "output_type": "execute_result"
    }
   ],
   "source": [
    "mouseLight[['Activity', 'Light']].groupby('Light').describe()"
   ]
  },
  {
   "cell_type": "markdown",
   "metadata": {},
   "source": [
    "**Would you agree that on average, the mice had *roughly* the same amount of physical activity regardless of the light cycle?  Explain in the markdown cell below.**"
   ]
  },
  {
   "cell_type": "markdown",
   "metadata": {},
   "source": [
    "Yes, the mice had roughly the same amount of physical activity regardless of the light cycle. Looking at the table, both the mean and standard deviation vary across the light conditions: **(DM: Mean = 2502.90, Std = 1999.38, LD: Mean = 2432.88, Std = 2266.45, LL: Mean = 2862.11, Std = 2418.24)**. The standard deviations differ by 267.07 units between DM and LD and 151.79 units between LD and LL, showing that the spread of activity levels is not identical across groups. However, the mean activity levels also fluctuate within a 400 unit range (from 2432.88 to 2862.11), which is relatively small compared to the large standard deviations (~2000–2400). This suggests that while the variability in physical activity differs slightly, the overall trend remains consistent, meaning light conditions likely do not have a strong effect on activity levels."
   ]
  },
  {
   "cell_type": "markdown",
   "metadata": {},
   "source": [
    "<div class=\"exercise\"><b>Exercise 3</b></div> \n",
    "\n",
    "- Compute the descriptive statistics for the body mass gain (`BMGain`) by the mice under the three different light conditions (`Light`).  <br>\n",
    "- Furthermore, create side-by-side boxplots of body mass gain for the three different light groups (note that we already loaded in `matplotlib.pyplot as plt` earlier.  Please provide labels for your boxplot.  Specifically, please label the x-axis “Light Conditions,” the y-axis “BM Gain,” and title the graph “BM Gain by Light Conditions.”  \n",
    "\n",
    "The output from my solution is (minus the boxplots):<br>\n",
    "\n",
    "<code>\n",
    "      BMGain                                                       \n",
    "       count      mean       std   min     25%   50%     75%    max\n",
    "Light                                                              \n",
    "DM      10.0   7.85900  3.009291  3.42  5.8775  7.43   9.810  13.47\n",
    "LD       8.0   5.92625  1.899420  2.79  4.7575  6.33   7.035   8.17\n",
    "LL       9.0  11.01000  2.623986  9.05  9.3900  9.89  11.200  17.40\n",
    "</code>"
   ]
  },
  {
   "cell_type": "code",
   "execution_count": 16,
   "metadata": {},
   "outputs": [
    {
     "data": {
      "text/html": [
       "<div>\n",
       "<style scoped>\n",
       "    .dataframe tbody tr th:only-of-type {\n",
       "        vertical-align: middle;\n",
       "    }\n",
       "\n",
       "    .dataframe tbody tr th {\n",
       "        vertical-align: top;\n",
       "    }\n",
       "\n",
       "    .dataframe thead tr th {\n",
       "        text-align: left;\n",
       "    }\n",
       "\n",
       "    .dataframe thead tr:last-of-type th {\n",
       "        text-align: right;\n",
       "    }\n",
       "</style>\n",
       "<table border=\"1\" class=\"dataframe\">\n",
       "  <thead>\n",
       "    <tr>\n",
       "      <th></th>\n",
       "      <th colspan=\"8\" halign=\"left\">BMGain</th>\n",
       "    </tr>\n",
       "    <tr>\n",
       "      <th></th>\n",
       "      <th>count</th>\n",
       "      <th>mean</th>\n",
       "      <th>std</th>\n",
       "      <th>min</th>\n",
       "      <th>25%</th>\n",
       "      <th>50%</th>\n",
       "      <th>75%</th>\n",
       "      <th>max</th>\n",
       "    </tr>\n",
       "    <tr>\n",
       "      <th>Light</th>\n",
       "      <th></th>\n",
       "      <th></th>\n",
       "      <th></th>\n",
       "      <th></th>\n",
       "      <th></th>\n",
       "      <th></th>\n",
       "      <th></th>\n",
       "      <th></th>\n",
       "    </tr>\n",
       "  </thead>\n",
       "  <tbody>\n",
       "    <tr>\n",
       "      <th>DM</th>\n",
       "      <td>10.0</td>\n",
       "      <td>7.85900</td>\n",
       "      <td>3.009291</td>\n",
       "      <td>3.42</td>\n",
       "      <td>5.8775</td>\n",
       "      <td>7.43</td>\n",
       "      <td>9.810</td>\n",
       "      <td>13.47</td>\n",
       "    </tr>\n",
       "    <tr>\n",
       "      <th>LD</th>\n",
       "      <td>8.0</td>\n",
       "      <td>5.92625</td>\n",
       "      <td>1.899420</td>\n",
       "      <td>2.79</td>\n",
       "      <td>4.7575</td>\n",
       "      <td>6.33</td>\n",
       "      <td>7.035</td>\n",
       "      <td>8.17</td>\n",
       "    </tr>\n",
       "    <tr>\n",
       "      <th>LL</th>\n",
       "      <td>9.0</td>\n",
       "      <td>11.01000</td>\n",
       "      <td>2.623986</td>\n",
       "      <td>9.05</td>\n",
       "      <td>9.3900</td>\n",
       "      <td>9.89</td>\n",
       "      <td>11.200</td>\n",
       "      <td>17.40</td>\n",
       "    </tr>\n",
       "  </tbody>\n",
       "</table>\n",
       "</div>"
      ],
      "text/plain": [
       "      BMGain                                                       \n",
       "       count      mean       std   min     25%   50%     75%    max\n",
       "Light                                                              \n",
       "DM      10.0   7.85900  3.009291  3.42  5.8775  7.43   9.810  13.47\n",
       "LD       8.0   5.92625  1.899420  2.79  4.7575  6.33   7.035   8.17\n",
       "LL       9.0  11.01000  2.623986  9.05  9.3900  9.89  11.200  17.40"
      ]
     },
     "execution_count": 16,
     "metadata": {},
     "output_type": "execute_result"
    }
   ],
   "source": [
    "mouseLight[['BMGain', 'Light']].groupby('Light').describe()"
   ]
  },
  {
   "cell_type": "code",
   "execution_count": 18,
   "metadata": {},
   "outputs": [
    {
     "name": "stderr",
     "output_type": "stream",
     "text": [
      "C:\\Users\\phuon\\AppData\\Local\\Temp\\ipykernel_28912\\2698816684.py:1: MatplotlibDeprecationWarning: The 'labels' parameter of boxplot() has been renamed 'tick_labels' since Matplotlib 3.9; support for the old name will be dropped in 3.11.\n",
      "  plt.boxplot([mouseLight[mouseLight.Light == 'DM'].BMGain,\n"
     ]
    },
    {
     "data": {
      "image/png": "[encoded data removed]",
      "text/plain": [
       "<Figure size 640x480 with 1 Axes>"
      ]
     },
     "metadata": {},
     "output_type": "display_data"
    }
   ],
   "source": [
    "plt.boxplot([mouseLight[mouseLight.Light == 'DM'].BMGain,\n",
    "mouseLight[mouseLight.Light == 'LD'].BMGain,\n",
    "mouseLight[mouseLight.Light == 'LL'].BMGain],\n",
    "labels=['DM','LD','LL'])\n",
    "plt.title('BM Gain by Light Conditions')\n",
    "plt.xlabel('Light Conditions')\n",
    "plt.ylabel('BM Gain')\n",
    "plt.show()"
   ]
  },
  {
   "cell_type": "markdown",
   "metadata": {},
   "source": [
    "**Would you agree that there are fairly significant differences between the average body mass gain for the three different light groups?  Which light group had the largest gain?  Which light group had the smallest gain?  Comment on the differences of the boxplots.  Use the markdown cell below to answer this question.**"
   ]
  },
  {
   "cell_type": "markdown",
   "metadata": {},
   "source": [
    "Yes, there are fairly significant differences between the aveage body mass gain for the three different light groups. The LL group had the largest gain, with a higher median and less variability compared to the other groups although it had an outlier, as seen in the box plot. The LD group had the smallest gain, with a lower median and a relatively narrow IQR. The DM had a higher median than LD but showed more variability, with a wider IQR, and greater spread in values in this group. Because of that, we can concluded that the light condition may influenced the average body mass gain in mice. "
   ]
  },
  {
   "cell_type": "markdown",
   "metadata": {},
   "source": [
    "<div class=\"exercise\"><b>Exercise 4</b></div> \n",
    "\n",
    "- Create a two-way table between light condition at night (`Light`) and glucose intolerance (`GlucoseInt`).\n",
    "- Construct a conditional distribution of glucose intolerance *given* light condition (so the rows should sum to 1).  \n",
    "\n",
    "The output from my solution is:<br>\n",
    "\n",
    "<code>\n",
    "GlucoseInt  No  Yes\n",
    "DM           4    6\n",
    "LD           8    0\n",
    "LL           3    6\n",
    "</code><code>\n",
    "GlucoseInt        No       Yes\n",
    "Light                         \n",
    "DM          0.400000  0.600000\n",
    "LD          1.000000  0.000000\n",
    "LL          0.333333  0.666667\n",
    "</code>"
   ]
  },
  {
   "cell_type": "code",
   "execution_count": 21,
   "metadata": {},
   "outputs": [
    {
     "data": {
      "text/html": [
       "<div>\n",
       "<style scoped>\n",
       "    .dataframe tbody tr th:only-of-type {\n",
       "        vertical-align: middle;\n",
       "    }\n",
       "\n",
       "    .dataframe tbody tr th {\n",
       "        vertical-align: top;\n",
       "    }\n",
       "\n",
       "    .dataframe thead th {\n",
       "        text-align: right;\n",
       "    }\n",
       "</style>\n",
       "<table border=\"1\" class=\"dataframe\">\n",
       "  <thead>\n",
       "    <tr style=\"text-align: right;\">\n",
       "      <th>GlucoseInt</th>\n",
       "      <th>No</th>\n",
       "      <th>Yes</th>\n",
       "    </tr>\n",
       "    <tr>\n",
       "      <th>Light</th>\n",
       "      <th></th>\n",
       "      <th></th>\n",
       "    </tr>\n",
       "  </thead>\n",
       "  <tbody>\n",
       "    <tr>\n",
       "      <th>DM</th>\n",
       "      <td>4</td>\n",
       "      <td>6</td>\n",
       "    </tr>\n",
       "    <tr>\n",
       "      <th>LD</th>\n",
       "      <td>8</td>\n",
       "      <td>0</td>\n",
       "    </tr>\n",
       "    <tr>\n",
       "      <th>LL</th>\n",
       "      <td>3</td>\n",
       "      <td>6</td>\n",
       "    </tr>\n",
       "  </tbody>\n",
       "</table>\n",
       "</div>"
      ],
      "text/plain": [
       "GlucoseInt  No  Yes\n",
       "Light              \n",
       "DM           4    6\n",
       "LD           8    0\n",
       "LL           3    6"
      ]
     },
     "execution_count": 21,
     "metadata": {},
     "output_type": "execute_result"
    }
   ],
   "source": [
    "pd.crosstab(index = mouseLight.Light, columns = mouseLight.GlucoseInt)"
   ]
  },
  {
   "cell_type": "code",
   "execution_count": 27,
   "metadata": {},
   "outputs": [
    {
     "data": {
      "text/html": [
       "<div>\n",
       "<style scoped>\n",
       "    .dataframe tbody tr th:only-of-type {\n",
       "        vertical-align: middle;\n",
       "    }\n",
       "\n",
       "    .dataframe tbody tr th {\n",
       "        vertical-align: top;\n",
       "    }\n",
       "\n",
       "    .dataframe thead th {\n",
       "        text-align: right;\n",
       "    }\n",
       "</style>\n",
       "<table border=\"1\" class=\"dataframe\">\n",
       "  <thead>\n",
       "    <tr style=\"text-align: right;\">\n",
       "      <th>GlucoseInt</th>\n",
       "      <th>No</th>\n",
       "      <th>Yes</th>\n",
       "    </tr>\n",
       "    <tr>\n",
       "      <th>Light</th>\n",
       "      <th></th>\n",
       "      <th></th>\n",
       "    </tr>\n",
       "  </thead>\n",
       "  <tbody>\n",
       "    <tr>\n",
       "      <th>DM</th>\n",
       "      <td>0.400000</td>\n",
       "      <td>0.600000</td>\n",
       "    </tr>\n",
       "    <tr>\n",
       "      <th>LD</th>\n",
       "      <td>1.000000</td>\n",
       "      <td>0.000000</td>\n",
       "    </tr>\n",
       "    <tr>\n",
       "      <th>LL</th>\n",
       "      <td>0.333333</td>\n",
       "      <td>0.666667</td>\n",
       "    </tr>\n",
       "  </tbody>\n",
       "</table>\n",
       "</div>"
      ],
      "text/plain": [
       "GlucoseInt        No       Yes\n",
       "Light                         \n",
       "DM          0.400000  0.600000\n",
       "LD          1.000000  0.000000\n",
       "LL          0.333333  0.666667"
      ]
     },
     "execution_count": 27,
     "metadata": {},
     "output_type": "execute_result"
    }
   ],
   "source": [
    "glucose_light = pd.crosstab(index = mouseLight.Light, columns = mouseLight.GlucoseInt, normalize = 'index')\n",
    "glucose_light "
   ]
  },
  {
   "cell_type": "markdown",
   "metadata": {},
   "source": [
    "Would you agree that Exercises 1-4 demonstrate that while the mice in all three groups ate roughly the same amount of food and had roughly the same amount of physical activity, there were still large differences between whether or not the mice became glucose intolerant?  Explain in the code cell below."
   ]
  },
  {
   "cell_type": "markdown",
   "metadata": {},
   "source": [
    "Yes, Althought Exercises 1-4 demonstrate that even though the mice in all three groups consumed roughly the same amounts of food and had comparable physical activity, there were significant differences in whether or not they developed glucose intolerance. Mice exposed to bright light (LL) and dim light (DM) had a higher proportion of glucose intolerance compared to those in the dark-light (LD) condition, where none of the mice developed glucose intolerance. This suggests that light exposure may play a role in the development of glucose intolerance."
   ]
  },
  {
   "cell_type": "markdown",
   "metadata": {},
   "source": [
    "<div class=\"exercise\"><b>Exercise 5</b></div> \n",
    "\n",
    "Given that this was clearly an experiment, can we reasonable conclude that an absence of darkness at night causes mice to be fatter and more likely to be glucose intolerant (this is not a trick question)?  Please answer in the code cell below."
   ]
  },
  {
   "cell_type": "markdown",
   "metadata": {},
   "source": [
    "Given that this was clearly an experiment, we can reasonably conclude that the absence of darkness at night contributes to increased fat accumulation and a higher likelihood of glucose intolerance in mice. Since the study controlled variables such as food intake and physical activity, the observed differences in glucose intolerance and fat accumulation can likely be attributed to light exposure conditions. However, I think that further studies would be needed to confirm causation and rule out any potential confounding factors."
   ]
  }
 ],
 "metadata": {
  "celltoolbar": "Raw Cell Format",
  "kernelspec": {
   "display_name": "Python [conda env:Attachments]",
   "language": "python",
   "name": "conda-env-Attachments-py"
  },
  "language_info": {
   "codemirror_mode": {
    "name": "ipython",
    "version": 3
   },
   "file_extension": ".py",
   "mimetype": "text/x-python",
   "name": "python",
   "nbconvert_exporter": "python",
   "pygments_lexer": "ipython3",
   "version": "3.12.7"
  }
 },
 "nbformat": 4,
 "nbformat_minor": 4
}
