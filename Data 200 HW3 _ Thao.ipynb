{
 "cells": [
  {
   "cell_type": "markdown",
   "metadata": {},
   "source": [
    "# Data 200: Data Systems for Data Analytics (Spring 2025)\n"
   ]
  },
  {
   "cell_type": "markdown",
   "metadata": {},
   "source": [
    "# Homework 3: Access Operations in Pandas\n",
    "\n",
    "## <font color='red'>**Due Date and Time:** 3:00 pm on Thursday, 2/13/2025 </font>\n",
    "---\n",
    "Enter your name in the markdown cell below."
   ]
  },
  {
   "cell_type": "markdown",
   "metadata": {},
   "source": [
    "# Name: Thao Nguyen"
   ]
  },
  {
   "cell_type": "markdown",
   "metadata": {},
   "source": [
    "## RUN THIS CELL TO GET THE RIGHT FORMATTING AND TO LOAD NumPy\n",
    "import requests\n",
    "import numpy as np\n",
    "from IPython.core.display import HTML\n",
    "styles = requests.get(\"https://raw.githubusercontent.com/Harvard-IACS/2018-CS109A/master/content/styles/cs109.css\").text\n",
    "HTML(styles)"
   ]
  },
  {
   "cell_type": "markdown",
   "metadata": {},
   "source": [
    "# Tasks\n",
    "\n",
    "- Read pages 145-204 in the textbook.\n",
    "- Review pages 74-98 in the Course Notes.\n",
    "- Complete the **Transforming DataFrames** chapter of the **Data Manipulation with Pandas** course on DataCamp\n",
    "- Upload your completed Jupyter Notebook on Moodle (NEW: JUST UPLOAD TO MOODLE, no email needed)."
   ]
  },
  {
   "cell_type": "markdown",
   "metadata": {},
   "source": [
    "# Exercises"
   ]
  },
  {
   "cell_type": "markdown",
   "metadata": {},
   "source": [
    "Run the code cell below that defines a dictionary of information from a vetrinarian clinic."
   ]
  },
  {
   "cell_type": "code",
   "execution_count": 7,
   "metadata": {},
   "outputs": [],
   "source": [
    "data = {\n",
    "  'animal': ['cat','cat','snake','dog', 'dog','cat','snake','cat','dog','dog'],\n",
    "  'age': [2.5, 3, 0.5, 7, 5, 2, 4.5, 4, 7, 3],\n",
    "  'visits': [1, 3, 2, 3, 2, 3, 1, 1, 2, 1],\n",
    "  'priority': ['yes','yes','no','yes','no',\n",
    "  'no','no','yes','no', 'no']}"
   ]
  },
  {
   "cell_type": "markdown",
   "metadata": {},
   "source": [
    "<div class=\"exercise\"><b>Exercise 1</b></div> \n",
    "\n",
    "Review pages 89-90 in the Course Notes and then **complete the code in the cell below** to:<br>\n",
    "- Create a `pd.Index` called `row_names` that can be used to specify the row names of a dataframe, and set <code>name='pet_names'</code>\n",
    "- Create a dataframe called `vetInfo` from the dictionary `data` and assign the row labels to be `row_names`\n",
    "- Print the dataframe.\n",
    "    \n",
    "The output from my solution is as follows: <br>\n",
    "\n",
    "<code>\n",
    "          animal  age  visits priority\n",
    "pet_names                             \n",
    "Maisey       cat  2.5       1      yes\n",
    "Finny        cat  3.0       3      yes\n",
    "Slithery   snake  0.5       2       no\n",
    "Fluffy       dog  7.0       3      yes\n",
    "Rex          dog  5.0       2       no\n",
    "Tucker       cat  2.0       3       no\n",
    "Snakey     snake  4.5       1       no\n",
    "Mason        cat  4.0       1      yes\n",
    "Lou Lou      dog  7.0       2       no\n",
    "Snoopy       dog  3.0       1       no</code>"
   ]
  },
  {
   "cell_type": "code",
   "execution_count": 9,
   "metadata": {
    "scrolled": true
   },
   "outputs": [
    {
     "name": "stdout",
     "output_type": "stream",
     "text": [
      "          animal  age  visits priority\n",
      "pet_names                             \n",
      "Maisey       cat  2.5       1      yes\n",
      "Finny        cat  3.0       3      yes\n",
      "Slithery   snake  0.5       2       no\n",
      "Fluffy       dog  7.0       3      yes\n",
      "Rex          dog  5.0       2       no\n",
      "Tucker       cat  2.0       3       no\n",
      "Snakey     snake  4.5       1       no\n",
      "Mason        cat  4.0       1      yes\n",
      "Lou Lou      dog  7.0       2       no\n",
      "Snoopy       dog  3.0       1       no\n"
     ]
    }
   ],
   "source": [
    "import pandas as pd\n",
    "pet_names = ['Maisey', 'Finny', 'Slithery', 'Fluffy', 'Rex', 'Tucker', 'Snakey', \n",
    "             'Mason', 'Lou Lou', 'Snoopy']\n",
    "## Your code here\n",
    "row_names = pd.Index(pet_names, \n",
    "                     name = 'pet_names')\n",
    "vetInfo = pd.DataFrame(data, index = row_names)\n",
    "print(vetInfo)"
   ]
  },
  {
   "cell_type": "markdown",
   "metadata": {},
   "source": [
    "<div class=\"exercise\"><b>Exercise 2</b></div> \n",
    "\n",
    "Write Python code to select and print the following:\n",
    "\n",
    "a) The data in rows with indices 2, 3, and 4<br>\n",
    "b) The data in columns `animal` and `age`<br>\n",
    "\n",
    "The output from my solution is:<br>\n",
    "\n",
    "<code>\n",
    "          animal  age  visits priority\n",
    "pet_names                             \n",
    "Slithery   snake  0.5       2       no\n",
    "Fluffy       dog  7.0       3      yes\n",
    "Rex          dog  5.0       2       no\n",
    "</code><code>\n",
    "          animal  age\n",
    "pet_names            \n",
    "Maisey       cat  2.5\n",
    "Finny        cat  3.0\n",
    "Slithery   snake  0.5\n",
    "Fluffy       dog  7.0\n",
    "Rex          dog  5.0\n",
    "Tucker       cat  2.0\n",
    "Snakey     snake  4.5\n",
    "Mason        cat  4.0\n",
    "Lou Lou      dog  7.0\n",
    "Snoopy       dog  3.0</code>"
   ]
  },
  {
   "cell_type": "code",
   "execution_count": 13,
   "metadata": {},
   "outputs": [
    {
     "name": "stdout",
     "output_type": "stream",
     "text": [
      "          animal  age  visits priority\n",
      "pet_names                             \n",
      "Slithery   snake  0.5       2       no\n",
      "Fluffy       dog  7.0       3      yes\n",
      "Rex          dog  5.0       2       no\n"
     ]
    }
   ],
   "source": [
    "print(vetInfo[2:5])"
   ]
  },
  {
   "cell_type": "code",
   "execution_count": 15,
   "metadata": {},
   "outputs": [
    {
     "name": "stdout",
     "output_type": "stream",
     "text": [
      "          animal  age\n",
      "pet_names            \n",
      "Maisey       cat  2.5\n",
      "Finny        cat  3.0\n",
      "Slithery   snake  0.5\n",
      "Fluffy       dog  7.0\n",
      "Rex          dog  5.0\n",
      "Tucker       cat  2.0\n",
      "Snakey     snake  4.5\n",
      "Mason        cat  4.0\n",
      "Lou Lou      dog  7.0\n",
      "Snoopy       dog  3.0\n"
     ]
    }
   ],
   "source": [
    "print(vetInfo[['animal', 'age']])"
   ]
  },
  {
   "cell_type": "markdown",
   "metadata": {},
   "source": [
    "<div class=\"exercise\"><b>Exercise 3</b></div> \n",
    "\n",
    "Review pages 96-97 of the Course Notes and then use `iloc` to select the following:<br>\n",
    "\n",
    "a) The rows with indices 2, 3, and 4<br>\n",
    "b) The rows with indices 0, 1, and 2 for columns with indices 0, 2, and 3<br>\n",
    "\n",
    "The output from my solution is:<br>\n",
    "\n",
    "<code>\n",
    "          animal  age  visits priority\n",
    "pet_names                             \n",
    "Slithery   snake  0.5       2       no\n",
    "Fluffy       dog  7.0       3      yes\n",
    "Rex          dog  5.0       2       no\n",
    "</code><code>\n",
    "          animal  visits priority\n",
    "pet_names                        \n",
    "Maisey       cat       1      yes\n",
    "Finny        cat       3      yes\n",
    "Slithery   snake       2       no</code>"
   ]
  },
  {
   "cell_type": "code",
   "execution_count": 28,
   "metadata": {},
   "outputs": [
    {
     "name": "stdout",
     "output_type": "stream",
     "text": [
      "          animal  age  visits priority\n",
      "pet_names                             \n",
      "Slithery   snake  0.5       2       no\n",
      "Fluffy       dog  7.0       3      yes\n",
      "Rex          dog  5.0       2       no\n"
     ]
    }
   ],
   "source": [
    "print(vetInfo.iloc[2:5, :])"
   ]
  },
  {
   "cell_type": "code",
   "execution_count": 21,
   "metadata": {},
   "outputs": [
    {
     "name": "stdout",
     "output_type": "stream",
     "text": [
      "          animal  visits priority\n",
      "pet_names                        \n",
      "Maisey       cat       1      yes\n",
      "Finny        cat       3      yes\n",
      "Slithery   snake       2       no\n"
     ]
    }
   ],
   "source": [
    "print(vetInfo.iloc[0:3, [0,2,3]])"
   ]
  },
  {
   "cell_type": "markdown",
   "metadata": {},
   "source": [
    "<div class=\"exercise\"><b>Exercise 4</b></div> \n",
    "\n",
    "Review pages 96-97 of the Course Notes and then use `loc` to select the following:<br>\n",
    "\n",
    "a) The rows with labels `Maisey`, `Finny`, and `Snoopy`<br>\n",
    "b) The rows with labels `Slithery` and `Snakey` for columns `age` and `visits`<br>\n",
    "\n",
    "The output from my solution is:<br>\n",
    "\n",
    "<code>\n",
    "          animal  age  visits priority\n",
    "pet_names                             \n",
    "Maisey       cat  2.5       1      yes\n",
    "Finny        cat  3.0       3      yes\n",
    "Snoopy       dog  3.0       1       no\n",
    "</code><code>\n",
    "           age  visits\n",
    "pet_names             \n",
    "Slithery   0.5       2\n",
    "Snakey     4.5       1</code>"
   ]
  },
  {
   "cell_type": "code",
   "execution_count": 29,
   "metadata": {},
   "outputs": [
    {
     "name": "stdout",
     "output_type": "stream",
     "text": [
      "          animal  age  visits priority\n",
      "pet_names                             \n",
      "Maisey       cat  2.5       1      yes\n",
      "Finny        cat  3.0       3      yes\n",
      "Snoopy       dog  3.0       1       no\n"
     ]
    }
   ],
   "source": [
    "print(vetInfo.loc[['Maisey', 'Finny', 'Snoopy']])"
   ]
  },
  {
   "cell_type": "code",
   "execution_count": 31,
   "metadata": {},
   "outputs": [
    {
     "name": "stdout",
     "output_type": "stream",
     "text": [
      "           age  visits\n",
      "pet_names             \n",
      "Slithery   0.5       2\n",
      "Snakey     4.5       1\n"
     ]
    }
   ],
   "source": [
    "print(vetInfo.loc[['Slithery', 'Snakey'], ['age', 'visits']])"
   ]
  },
  {
   "cell_type": "markdown",
   "metadata": {},
   "source": [
    "<div class=\"exercise\"><b>Exercise 5</b></div> \n",
    "\n",
    "Review page 94-96 of the Course Notes and then print only the rows where `age` is greater than 3.\n",
    "\n",
    "The output from my solution is:<br>\n",
    "\n",
    "<code>\n",
    "          animal  age  visits priority\n",
    "pet_names                             \n",
    "Fluffy       dog  7.0       3      yes\n",
    "Rex          dog  5.0       2       no\n",
    "Snakey     snake  4.5       1       no\n",
    "Mason        cat  4.0       1      yes\n",
    "Lou Lou      dog  7.0       2       no</code>"
   ]
  },
  {
   "cell_type": "code",
   "execution_count": 33,
   "metadata": {},
   "outputs": [
    {
     "name": "stdout",
     "output_type": "stream",
     "text": [
      "          animal  age  visits priority\n",
      "pet_names                             \n",
      "Fluffy       dog  7.0       3      yes\n",
      "Rex          dog  5.0       2       no\n",
      "Snakey     snake  4.5       1       no\n",
      "Mason        cat  4.0       1      yes\n",
      "Lou Lou      dog  7.0       2       no\n"
     ]
    }
   ],
   "source": [
    "print(vetInfo[vetInfo['age'] >3])"
   ]
  },
  {
   "cell_type": "markdown",
   "metadata": {},
   "source": [
    "<div class=\"exercise\"><b>Exercise 6</b></div> \n",
    "\n",
    "Reviews page 94-96 of the Course Notes and then print:\n",
    "\n",
    "a) The rows where `priority` is `yes`.<br>\n",
    "b) The rows where `priority` is `yes` and the `age` is greater than 3.<br>\n",
    "c) The rows where `priority` is `yes`, but only for columns `animal` and `visits` (use `loc`).\n",
    "\n",
    "The output from my solution is:<br>\n",
    "\n",
    "<code>\n",
    "          animal  age  visits priority\n",
    "pet_names                             \n",
    "Maisey       cat  2.5       1      yes\n",
    "Finny        cat  3.0       3      yes\n",
    "Fluffy       dog  7.0       3      yes\n",
    "Mason        cat  4.0       1      yes\n",
    "</code><code>\n",
    "          animal  age  visits priority\n",
    "pet_names                             \n",
    "Fluffy       dog  7.0       3      yes\n",
    "Mason        cat  4.0       1      yes\n",
    "</code><code>\n",
    "          animal  visits\n",
    "pet_names               \n",
    "Maisey       cat       1\n",
    "Finny        cat       3\n",
    "Fluffy       dog       3\n",
    "Mason        cat       1</code>"
   ]
  },
  {
   "cell_type": "code",
   "execution_count": 35,
   "metadata": {},
   "outputs": [
    {
     "name": "stdout",
     "output_type": "stream",
     "text": [
      "          animal  age  visits priority\n",
      "pet_names                             \n",
      "Maisey       cat  2.5       1      yes\n",
      "Finny        cat  3.0       3      yes\n",
      "Fluffy       dog  7.0       3      yes\n",
      "Mason        cat  4.0       1      yes\n"
     ]
    }
   ],
   "source": [
    "print(vetInfo[vetInfo['priority'] == 'yes'])"
   ]
  },
  {
   "cell_type": "code",
   "execution_count": 37,
   "metadata": {},
   "outputs": [
    {
     "name": "stdout",
     "output_type": "stream",
     "text": [
      "          animal  age  visits priority\n",
      "pet_names                             \n",
      "Fluffy       dog  7.0       3      yes\n",
      "Mason        cat  4.0       1      yes\n"
     ]
    }
   ],
   "source": [
    "print(vetInfo[(vetInfo['priority'] == 'yes') & (vetInfo['age'] > 3)])"
   ]
  },
  {
   "cell_type": "code",
   "execution_count": 39,
   "metadata": {},
   "outputs": [
    {
     "name": "stdout",
     "output_type": "stream",
     "text": [
      "          animal  visits\n",
      "pet_names               \n",
      "Maisey       cat       1\n",
      "Finny        cat       3\n",
      "Fluffy       dog       3\n",
      "Mason        cat       1\n"
     ]
    }
   ],
   "source": [
    "print(vetInfo.loc[ vetInfo.priority == 'yes', ['animal', 'visits']])"
   ]
  },
  {
   "cell_type": "markdown",
   "metadata": {},
   "source": [
    "<div class=\"exercise\"><b>Exercise 7</b></div> \n",
    "\n",
    "Review pages 97-98 in the Course Notes and then add a column `age_visit` which, for each row, is the age of the animal divided by the number of visits for the animal.  Print the updated dataframe.\n",
    "\n",
    "The output from my solution is:<br>\n",
    "<code>\n",
    "          animal  age  visits priority  age_visit\n",
    "pet_names                                        \n",
    "Maisey       cat  2.5       1      yes   2.500000\n",
    "Finny        cat  3.0       3      yes   1.000000\n",
    "Slithery   snake  0.5       2       no   0.250000\n",
    "Fluffy       dog  7.0       3      yes   2.333333\n",
    "Rex          dog  5.0       2       no   2.500000\n",
    "Tucker       cat  2.0       3       no   0.666667\n",
    "Snakey     snake  4.5       1       no   4.500000\n",
    "Mason        cat  4.0       1      yes   4.000000\n",
    "Lou Lou      dog  7.0       2       no   3.500000\n",
    "Snoopy       dog  3.0       1       no   3.000000</code>"
   ]
  },
  {
   "cell_type": "code",
   "execution_count": 41,
   "metadata": {},
   "outputs": [
    {
     "data": {
      "text/html": [
       "<div>\n",
       "<style scoped>\n",
       "    .dataframe tbody tr th:only-of-type {\n",
       "        vertical-align: middle;\n",
       "    }\n",
       "\n",
       "    .dataframe tbody tr th {\n",
       "        vertical-align: top;\n",
       "    }\n",
       "\n",
       "    .dataframe thead th {\n",
       "        text-align: right;\n",
       "    }\n",
       "</style>\n",
       "<table border=\"1\" class=\"dataframe\">\n",
       "  <thead>\n",
       "    <tr style=\"text-align: right;\">\n",
       "      <th></th>\n",
       "      <th>animal</th>\n",
       "      <th>age</th>\n",
       "      <th>visits</th>\n",
       "      <th>priority</th>\n",
       "      <th>age_visit</th>\n",
       "    </tr>\n",
       "    <tr>\n",
       "      <th>pet_names</th>\n",
       "      <th></th>\n",
       "      <th></th>\n",
       "      <th></th>\n",
       "      <th></th>\n",
       "      <th></th>\n",
       "    </tr>\n",
       "  </thead>\n",
       "  <tbody>\n",
       "    <tr>\n",
       "      <th>Maisey</th>\n",
       "      <td>cat</td>\n",
       "      <td>2.5</td>\n",
       "      <td>1</td>\n",
       "      <td>yes</td>\n",
       "      <td>2.500000</td>\n",
       "    </tr>\n",
       "    <tr>\n",
       "      <th>Finny</th>\n",
       "      <td>cat</td>\n",
       "      <td>3.0</td>\n",
       "      <td>3</td>\n",
       "      <td>yes</td>\n",
       "      <td>1.000000</td>\n",
       "    </tr>\n",
       "    <tr>\n",
       "      <th>Slithery</th>\n",
       "      <td>snake</td>\n",
       "      <td>0.5</td>\n",
       "      <td>2</td>\n",
       "      <td>no</td>\n",
       "      <td>0.250000</td>\n",
       "    </tr>\n",
       "    <tr>\n",
       "      <th>Fluffy</th>\n",
       "      <td>dog</td>\n",
       "      <td>7.0</td>\n",
       "      <td>3</td>\n",
       "      <td>yes</td>\n",
       "      <td>2.333333</td>\n",
       "    </tr>\n",
       "    <tr>\n",
       "      <th>Rex</th>\n",
       "      <td>dog</td>\n",
       "      <td>5.0</td>\n",
       "      <td>2</td>\n",
       "      <td>no</td>\n",
       "      <td>2.500000</td>\n",
       "    </tr>\n",
       "    <tr>\n",
       "      <th>Tucker</th>\n",
       "      <td>cat</td>\n",
       "      <td>2.0</td>\n",
       "      <td>3</td>\n",
       "      <td>no</td>\n",
       "      <td>0.666667</td>\n",
       "    </tr>\n",
       "    <tr>\n",
       "      <th>Snakey</th>\n",
       "      <td>snake</td>\n",
       "      <td>4.5</td>\n",
       "      <td>1</td>\n",
       "      <td>no</td>\n",
       "      <td>4.500000</td>\n",
       "    </tr>\n",
       "    <tr>\n",
       "      <th>Mason</th>\n",
       "      <td>cat</td>\n",
       "      <td>4.0</td>\n",
       "      <td>1</td>\n",
       "      <td>yes</td>\n",
       "      <td>4.000000</td>\n",
       "    </tr>\n",
       "    <tr>\n",
       "      <th>Lou Lou</th>\n",
       "      <td>dog</td>\n",
       "      <td>7.0</td>\n",
       "      <td>2</td>\n",
       "      <td>no</td>\n",
       "      <td>3.500000</td>\n",
       "    </tr>\n",
       "    <tr>\n",
       "      <th>Snoopy</th>\n",
       "      <td>dog</td>\n",
       "      <td>3.0</td>\n",
       "      <td>1</td>\n",
       "      <td>no</td>\n",
       "      <td>3.000000</td>\n",
       "    </tr>\n",
       "  </tbody>\n",
       "</table>\n",
       "</div>"
      ],
      "text/plain": [
       "          animal  age  visits priority  age_visit\n",
       "pet_names                                        \n",
       "Maisey       cat  2.5       1      yes   2.500000\n",
       "Finny        cat  3.0       3      yes   1.000000\n",
       "Slithery   snake  0.5       2       no   0.250000\n",
       "Fluffy       dog  7.0       3      yes   2.333333\n",
       "Rex          dog  5.0       2       no   2.500000\n",
       "Tucker       cat  2.0       3       no   0.666667\n",
       "Snakey     snake  4.5       1       no   4.500000\n",
       "Mason        cat  4.0       1      yes   4.000000\n",
       "Lou Lou      dog  7.0       2       no   3.500000\n",
       "Snoopy       dog  3.0       1       no   3.000000"
      ]
     },
     "execution_count": 41,
     "metadata": {},
     "output_type": "execute_result"
    }
   ],
   "source": [
    "vetInfo['age_visit'] = vetInfo['age'] / vetInfo['visits']\n",
    "vetInfo"
   ]
  },
  {
   "cell_type": "markdown",
   "metadata": {},
   "source": [
    "<div class=\"exercise\"><b>Exercise 8</b></div> \n",
    "\n",
    "Review page 86-87 of the Course Notes.  Then compute and print the mean age of the animals.\n",
    "\n",
    "The output from my solution is:<br>\n",
    "<code>\n",
    "The average age of the animals is 3.85</code>"
   ]
  },
  {
   "cell_type": "code",
   "execution_count": 43,
   "metadata": {},
   "outputs": [
    {
     "name": "stdout",
     "output_type": "stream",
     "text": [
      "The average age of the animals is 3.85\n"
     ]
    }
   ],
   "source": [
    "print(f'The average age of the animals is {vetInfo['age'].mean()}')"
   ]
  },
  {
   "cell_type": "markdown",
   "metadata": {},
   "source": [
    "<div class=\"exercise\"><b>Exercise 9</b></div> \n",
    "\n",
    "Review page 96 of the Course Notes.  Then use the `isin(.)` function to print the rows corresponding to just dogs and cats.\n",
    "The output from my solution is:<br>\n",
    "<code>\n",
    "          animal  age  visits priority  age_visit\n",
    "pet_names                                        \n",
    "Maisey       cat  2.5       1      yes   2.500000\n",
    "Finny        cat  3.0       3      yes   1.000000\n",
    "Fluffy       dog  7.0       3      yes   2.333333\n",
    "Rex          dog  5.0       2       no   2.500000\n",
    "Tucker       cat  2.0       3       no   0.666667\n",
    "Mason        cat  4.0       1      yes   4.000000\n",
    "Lou Lou      dog  7.0       2       no   3.500000\n",
    "Snoopy       dog  3.0       1       no   3.000000</code>"
   ]
  },
  {
   "cell_type": "code",
   "execution_count": 45,
   "metadata": {},
   "outputs": [
    {
     "name": "stdout",
     "output_type": "stream",
     "text": [
      "          animal  age  visits priority  age_visit\n",
      "pet_names                                        \n",
      "Maisey       cat  2.5       1      yes   2.500000\n",
      "Finny        cat  3.0       3      yes   1.000000\n",
      "Fluffy       dog  7.0       3      yes   2.333333\n",
      "Rex          dog  5.0       2       no   2.500000\n",
      "Tucker       cat  2.0       3       no   0.666667\n",
      "Mason        cat  4.0       1      yes   4.000000\n",
      "Lou Lou      dog  7.0       2       no   3.500000\n",
      "Snoopy       dog  3.0       1       no   3.000000\n"
     ]
    }
   ],
   "source": [
    "print(vetInfo[vetInfo['animal'].isin(['cat', 'dog'])])"
   ]
  },
  {
   "cell_type": "markdown",
   "metadata": {},
   "source": [
    "<div class=\"exercise\"><b>Exercise 10</b></div> \n",
    "\n",
    "Review pages 90-91 of the Course Notes and then download the file `MotorTrend.csv` from our course Team (be sure to save the file in the same location as this notebook).  Then write Python code to:<br>\n",
    "\n",
    "a) Import the `MotorTrend.csv` file as a dataframe.<br>\n",
    "b) Print the shape of the dataframe.<br>\n",
    "c) Print the first five rows of the dataframe (using the `head()` method).<br>\n",
    "\n",
    "The output from my solution is:<br>\n",
    "<code>\n",
    "The shape of the dataframe is (32, 12)\n",
    "                Name   mpg  cyl   disp   hp  drat     wt   qsec  vs  am  gear  \\\n",
    "0          Mazda RX4  21.0    6  160.0  110  3.90  2.620  16.46   0   1     4   \n",
    "1      Mazda RX4 Wag  21.0    6  160.0  110  3.90  2.875  17.02   0   1     4   \n",
    "2         Datsun 710  22.8    4  108.0   93  3.85  2.320  18.61   1   1     4   \n",
    "3     Hornet 4 Drive  21.4    6  258.0  110  3.08  3.215  19.44   1   0     3   \n",
    "4  Hornet Sportabout  18.7    8  360.0  175  3.15  3.440  17.02   0   0     3   \n",
    "</code><code>\n",
    "   carb  \n",
    "0     4  \n",
    "1     4  \n",
    "2     1  \n",
    "3     1  \n",
    "4     2 </code>\n"
   ]
  },
  {
   "cell_type": "code",
   "execution_count": 47,
   "metadata": {},
   "outputs": [
    {
     "name": "stdout",
     "output_type": "stream",
     "text": [
      "The shape of the dataframe is (32, 12)\n",
      "                Name   mpg  cyl   disp   hp  drat     wt   qsec  vs  am  gear  \\\n",
      "0          Mazda RX4  21.0    6  160.0  110  3.90  2.620  16.46   0   1     4   \n",
      "1      Mazda RX4 Wag  21.0    6  160.0  110  3.90  2.875  17.02   0   1     4   \n",
      "2         Datsun 710  22.8    4  108.0   93  3.85  2.320  18.61   1   1     4   \n",
      "3     Hornet 4 Drive  21.4    6  258.0  110  3.08  3.215  19.44   1   0     3   \n",
      "4  Hornet Sportabout  18.7    8  360.0  175  3.15  3.440  17.02   0   0     3   \n",
      "\n",
      "   carb  \n",
      "0     4  \n",
      "1     4  \n",
      "2     1  \n",
      "3     1  \n",
      "4     2  \n"
     ]
    }
   ],
   "source": [
    "df = pd.read_csv('MotorTrend.csv')\n",
    "print('The shape of the dataframe is ' + str(df.shape))\n",
    "print(df.head(5))"
   ]
  },
  {
   "cell_type": "markdown",
   "metadata": {},
   "source": [
    "<div class=\"exercise\"><b>Exercise 11</b></div> \n",
    "\n",
    "Review pages 91-92 of the Course Notes.  Then use the `describe()` function to print the summary statistics, but just for columns `mpg` and `hp`.\n",
    "\n",
    "The output from my solution is:<br>\n",
    "<code>\n",
    "             mpg          hp\n",
    "count  32.000000   32.000000\n",
    "mean   20.090625  146.687500\n",
    "std     6.026948   68.562868\n",
    "min    10.400000   52.000000\n",
    "25%    15.425000   96.500000\n",
    "50%    19.200000  123.000000\n",
    "75%    22.800000  180.000000\n",
    "max    33.900000  335.000000</code>"
   ]
  },
  {
   "cell_type": "code",
   "execution_count": 49,
   "metadata": {},
   "outputs": [
    {
     "name": "stdout",
     "output_type": "stream",
     "text": [
      "             mpg          hp\n",
      "count  32.000000   32.000000\n",
      "mean   20.090625  146.687500\n",
      "std     6.026948   68.562868\n",
      "min    10.400000   52.000000\n",
      "25%    15.425000   96.500000\n",
      "50%    19.200000  123.000000\n",
      "75%    22.800000  180.000000\n",
      "max    33.900000  335.000000\n"
     ]
    }
   ],
   "source": [
    "print(df[['mpg', 'hp']].describe())"
   ]
  }
 ],
 "metadata": {
  "celltoolbar": "Raw Cell Format",
  "kernelspec": {
   "display_name": "Python [conda env:Attachments]",
   "language": "python",
   "name": "conda-env-Attachments-py"
  },
  "language_info": {
   "codemirror_mode": {
    "name": "ipython",
    "version": 3
   },
   "file_extension": ".py",
   "mimetype": "text/x-python",
   "name": "python",
   "nbconvert_exporter": "python",
   "pygments_lexer": "ipython3",
   "version": "3.12.7"
  }
 },
 "nbformat": 4,
 "nbformat_minor": 4
}
