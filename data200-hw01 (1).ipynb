{
 "cells": [
  {
   "cell_type": "markdown",
   "metadata": {},
   "source": [
    "# Data 200: Data Systems for Data Analytics (Spring 2025)"
   ]
  },
  {
   "cell_type": "markdown",
   "metadata": {},
   "source": [
    "# Homework 1: Introduction to NumPy\n",
    "\n",
    "## <font color='red'>**Due Date and Time:** 3:00pm on Monday, 2/3/2024 </font>\n",
    "---\n",
    "Enter your name in the markdown cell below."
   ]
  },
  {
   "cell_type": "markdown",
   "metadata": {},
   "source": [
    "# Name:"
   ]
  },
  {
   "cell_type": "code",
   "execution_count": 1,
   "metadata": {},
   "outputs": [
    {
     "data": {
      "text/html": [
       "<style>\n",
       "blockquote { background: #AEDE94; }\n",
       "h1 { \n",
       "    padding-top: 25px;\n",
       "    padding-bottom: 25px;\n",
       "    text-align: left; \n",
       "    padding-left: 10px;\n",
       "    background-color: #DDDDDD; \n",
       "    color: black;\n",
       "}\n",
       "h2 { \n",
       "    padding-top: 10px;\n",
       "    padding-bottom: 10px;\n",
       "    text-align: left; \n",
       "    padding-left: 5px;\n",
       "    background-color: #EEEEEE; \n",
       "    color: black;\n",
       "}\n",
       "\n",
       "div.exercise {\n",
       "\tbackground-color: #ffcccc;\n",
       "\tborder-color: #E9967A; \t\n",
       "\tborder-left: 5px solid #800080; \n",
       "\tpadding: 0.5em;\n",
       "}\n",
       "\n",
       "div.exercise-r {\n",
       "\tbackground-color: #fce8e8;\n",
       "\tborder-color: #E9967A; \t\n",
       "\tborder-left: 5px solid #800080; \n",
       "\tpadding: 0.5em;\n",
       "}\n",
       "\n",
       "\n",
       "span.sub-q {\n",
       "\tfont-weight: bold;\n",
       "}\n",
       "div.theme {\n",
       "\tbackground-color: #DDDDDD;\n",
       "\tborder-color: #E9967A; \t\n",
       "\tborder-left: 5px solid #800080; \n",
       "\tpadding: 0.5em;\n",
       "\tfont-size: 18pt;\n",
       "}\n",
       "div.gc { \n",
       "\tbackground-color: #AEDE94;\n",
       "\tborder-color: #E9967A; \t \n",
       "\tborder-left: 5px solid #800080; \n",
       "\tpadding: 0.5em;\n",
       "\tfont-size: 12pt;\n",
       "}\n",
       "p.q1 { \n",
       "    padding-top: 5px;\n",
       "    padding-bottom: 5px;\n",
       "    text-align: left; \n",
       "    padding-left: 5px;\n",
       "    background-color: #EEEEEE; \n",
       "    color: black;\n",
       "}\n",
       "header {\n",
       "   padding-top: 35px;\n",
       "    padding-bottom: 35px;\n",
       "    text-align: left; \n",
       "    padding-left: 10px;\n",
       "    background-color: #DDDDDD; \n",
       "    color: black;\n",
       "}\n",
       "</style>\n",
       "\n"
      ],
      "text/plain": [
       "<IPython.core.display.HTML object>"
      ]
     },
     "execution_count": 1,
     "metadata": {},
     "output_type": "execute_result"
    }
   ],
   "source": [
    "## RUN THIS CELL TO GET THE RIGHT FORMATTING AND TO LOAD NumPy\n",
    "import requests\n",
    "import numpy as np\n",
    "from IPython.core.display import HTML\n",
    "styles = requests.get(\"https://raw.githubusercontent.com/Harvard-IACS/2018-CS109A/master/content/styles/cs109.css\").text\n",
    "HTML(styles)"
   ]
  },
  {
   "cell_type": "markdown",
   "metadata": {},
   "source": [
    "# Tasks\n",
    "\n",
    "- Read pages 3-15 in the textbook\n",
    "- Complete the **numPy** chapter of the **Introduction to Python** course on DataCamp\n",
    "- Read pages 23-46 in the Course Notes\n",
    "- E-mail me your completed Jupyter notebook\n",
    "- Upload it to Moodle as well in the Homework 1 assignment"
   ]
  },
  {
   "cell_type": "markdown",
   "metadata": {},
   "source": [
    "# Exercises"
   ]
  },
  {
   "cell_type": "markdown",
   "metadata": {},
   "source": [
    "Run the code cell below."
   ]
  },
  {
   "cell_type": "code",
   "execution_count": 5,
   "metadata": {},
   "outputs": [],
   "source": [
    "values = [23, 19, 34, 50]"
   ]
  },
  {
   "cell_type": "markdown",
   "metadata": {},
   "source": [
    "<div class=\"exercise\"><b>Exercise 1</b></div> \n",
    "\n",
    "Convert the Python list `values` to a NumPy array called `np_values` and then print the array."
   ]
  },
  {
   "cell_type": "code",
   "execution_count": 9,
   "metadata": {},
   "outputs": [
    {
     "data": {
      "text/plain": [
       "array([23, 19, 34, 50])"
      ]
     },
     "execution_count": 9,
     "metadata": {},
     "output_type": "execute_result"
    }
   ],
   "source": [
    "np_values = np.array(values)\n",
    "np_values"
   ]
  },
  {
   "cell_type": "markdown",
   "metadata": {},
   "source": [
    "<div class=\"exercise\"><b>Exercise 2</b></div> \n",
    "\n",
    "Using the `np.arange(.)` function: <br><br>\n",
    "a) Create an array `x` with integers ranging from 12 to 36.<br>\n",
    "b) Create an array `x2` with even integers ranging from 10 to 20.<br>\n",
    "c) Create an array `x3` with integers from 8 to -4 in a backwards fashion.<br>\n",
    "\n",
    "Be sure to print the arrays to obtain the following expected output:<br><br>`[12 13 14 15 16 17 18 19 20 21 22 23 24 25 26 27 28 29 30 31 32 33 34 35]`<br>`[10 12 14 16 18]\n",
    "`<br>`[ 8  7  6  5  4  3  2  1  0 -1 -2 -3]`"
   ]
  },
  {
   "cell_type": "code",
   "execution_count": 13,
   "metadata": {},
   "outputs": [
    {
     "data": {
      "text/plain": [
       "array([12, 13, 14, 15, 16, 17, 18, 19, 20, 21, 22, 23, 24, 25, 26, 27, 28,\n",
       "       29, 30, 31, 32, 33, 34, 35])"
      ]
     },
     "execution_count": 13,
     "metadata": {},
     "output_type": "execute_result"
    }
   ],
   "source": [
    "x = np.arange(12,36)\n",
    "x"
   ]
  },
  {
   "cell_type": "code",
   "execution_count": 15,
   "metadata": {},
   "outputs": [
    {
     "data": {
      "text/plain": [
       "array([10, 12, 14, 16, 18])"
      ]
     },
     "execution_count": 15,
     "metadata": {},
     "output_type": "execute_result"
    }
   ],
   "source": [
    "x2 = np.arange(10,20,2)\n",
    "x2"
   ]
  },
  {
   "cell_type": "code",
   "execution_count": 19,
   "metadata": {},
   "outputs": [
    {
     "data": {
      "text/plain": [
       "array([ 8,  7,  6,  5,  4,  3,  2,  1,  0, -1, -2, -3, -4])"
      ]
     },
     "execution_count": 19,
     "metadata": {},
     "output_type": "execute_result"
    }
   ],
   "source": [
    "x3 = np.arange(8,-5, -1)\n",
    "x3"
   ]
  },
  {
   "cell_type": "markdown",
   "metadata": {},
   "source": [
    "Run the code cell below, which defines an array `mpg` of miles-per-gallon (mpg) of a fleet of vehicles."
   ]
  },
  {
   "cell_type": "code",
   "execution_count": 23,
   "metadata": {},
   "outputs": [],
   "source": [
    "mpg = np.array([19, 23, 20, 21, 20, 23, 21, 21, 23, 19, 24, 23, 28, 19, 18, 21, 23, 17, 20, 20, 20, 21, 24, 18, 15])"
   ]
  },
  {
   "cell_type": "markdown",
   "metadata": {},
   "source": [
    "<div class=\"exercise\"><b>Exercise 3</b></div> \n",
    "\n",
    "Develop Python code to accomplish the following (you may want to review Boolean Indexing):<br><br>\n",
    "a) Print the elements in `mpg` from index 3 to 10<br>\n",
    "b) Print the elements in `mpg` from index 15 forward<br>\n",
    "c) Create and print an array `goodMpg` that contains all the elements in `mpg` that are >= 23<br>\n",
    "d) Create and print an array `okMpg` that contains all the elements in `mpg` that are strictly between 18 and 23<br>\n",
    "e) Using *vectorization*, convert the `mpg` values to kilometers-per-liter (kpl) and assign it to the array `kpl`--be sure to print the new array. Note: 1 mpg = 0.425 kpl.<br>\n",
    "\n",
    "The expected output for this exercise is as follows:<br>\n",
    "    \n",
    "<code>[21 20 23 21 21 23 19]\n",
    "[21 23 17 20 20 20 21 24 18 15]\n",
    "[23 23 23 24 23 28 23 24]\n",
    "[19 20 21 20 21 21 19 19 21 20 20 20 21]\n",
    "[  8.075   9.775   8.5     8.925   8.5     9.775   8.925   8.925   9.775\n",
    "   8.075  10.2     9.775  11.9     8.075   7.65    8.925   9.775   7.225\n",
    "   8.5     8.5     8.5     8.925  10.2     7.65    6.375]</code>"
   ]
  },
  {
   "cell_type": "code",
   "execution_count": 25,
   "metadata": {},
   "outputs": [
    {
     "data": {
      "text/plain": [
       "array([21, 20, 23, 21, 21, 23, 19])"
      ]
     },
     "execution_count": 25,
     "metadata": {},
     "output_type": "execute_result"
    }
   ],
   "source": [
    "mpg[3:10]"
   ]
  },
  {
   "cell_type": "code",
   "execution_count": 27,
   "metadata": {},
   "outputs": [
    {
     "data": {
      "text/plain": [
       "array([21, 23, 17, 20, 20, 20, 21, 24, 18, 15])"
      ]
     },
     "execution_count": 27,
     "metadata": {},
     "output_type": "execute_result"
    }
   ],
   "source": [
    "mpg[15:]"
   ]
  },
  {
   "cell_type": "code",
   "execution_count": 31,
   "metadata": {},
   "outputs": [
    {
     "data": {
      "text/plain": [
       "array([23, 23, 23, 24, 23, 28, 23, 24])"
      ]
     },
     "execution_count": 31,
     "metadata": {},
     "output_type": "execute_result"
    }
   ],
   "source": [
    "goodMpg = mpg[mpg>=23]\n",
    "goodMpg"
   ]
  },
  {
   "cell_type": "code",
   "execution_count": 39,
   "metadata": {},
   "outputs": [
    {
     "data": {
      "text/plain": [
       "array([19, 20, 21, 20, 21, 21, 19, 19, 21, 20, 20, 20, 21])"
      ]
     },
     "execution_count": 39,
     "metadata": {},
     "output_type": "execute_result"
    }
   ],
   "source": [
    "okMpg = mpg[(mpg > 18) & (mpg <23)]\n",
    "okMpg"
   ]
  },
  {
   "cell_type": "code",
   "execution_count": 43,
   "metadata": {},
   "outputs": [
    {
     "data": {
      "text/plain": [
       "array([ 8.075,  9.775,  8.5  ,  8.925,  8.5  ,  9.775,  8.925,  8.925,\n",
       "        9.775,  8.075, 10.2  ,  9.775, 11.9  ,  8.075,  7.65 ,  8.925,\n",
       "        9.775,  7.225,  8.5  ,  8.5  ,  8.5  ,  8.925, 10.2  ,  7.65 ,\n",
       "        6.375])"
      ]
     },
     "execution_count": 43,
     "metadata": {},
     "output_type": "execute_result"
    }
   ],
   "source": [
    "kpl = mpg * 0.425\n",
    "kpl"
   ]
  },
  {
   "cell_type": "markdown",
   "metadata": {},
   "source": [
    "<div class=\"exercise\"><b>Exercise 4</b></div> \n",
    "Develop Python code to do the following:<br>\n",
    "\n",
    "a) Create and print a 3x3 matrix A (2D NumPy array) with values ranging from 2 to 10 (using `arange(.)` and `reshape(.)`). <br>\n",
    "b) Negate all the numbers of A that are strictly between 3 and 7 and then print the updated matrix.<br>\n",
    "\n",
    "The expected output for this exercise is as follows:<br>\n",
    "        \n",
    "<code>[[ 2  3  4]\n",
    " [ 5  6  7]\n",
    " [ 8  9 10]]</code>\n",
    "\n",
    "<code>\n",
    "[[ 2  3 -4]\n",
    " [-5 -6  7]\n",
    " [ 8  9 10]]</code>\n"
   ]
  },
  {
   "cell_type": "code",
   "execution_count": 69,
   "metadata": {},
   "outputs": [
    {
     "name": "stdout",
     "output_type": "stream",
     "text": [
      "[[ 2  3  4]\n",
      " [ 5  6  7]\n",
      " [ 8  9 10]]\n"
     ]
    }
   ],
   "source": [
    "x = np.arange(2,11)\n",
    "A = x.reshape(3,3)\n",
    "print(A)"
   ]
  },
  {
   "cell_type": "code",
   "execution_count": 79,
   "metadata": {},
   "outputs": [
    {
     "name": "stdout",
     "output_type": "stream",
     "text": [
      "[[ 2  3 -4]\n",
      " [-5 -6  7]\n",
      " [ 8  9 10]]\n"
     ]
    }
   ],
   "source": [
    "A[(A > 3) & (A < 7)] *= -1\n",
    "print(A)"
   ]
  },
  {
   "cell_type": "markdown",
   "metadata": {},
   "source": [
    "<div class=\"exercise\"><b>Exercise 5</b></div> Develop Python code to do the following:<br><br>\n",
    "a) Print the first row of A (from the previous exercise--the updated matrix from part (b)<br>\n",
    "b) Print the third column of A (from the previous exercise)--make sure the output is a 3x1 column!<br>\n",
    "c) Print the sum of the values of the second column of A<br>\n",
    "d) Print the average of all the values of A<br>\n",
    "e) Print the median of the values of the first column of A<br>\n",
    "\n",
    "The expected output for this exercise is as follows:<br>\n",
    "        \n",
    "<code>[ 2  3 -4]</code>\n",
    "\n",
    "<code>\n",
    "[[-4]\n",
    " [ 7]\n",
    " [10]]</code>\n",
    "\n",
    "`6`\n",
    "\n",
    "`2.66666666667`\n",
    "\n",
    "`2.0`"
   ]
  },
  {
   "cell_type": "code",
   "execution_count": 81,
   "metadata": {
    "scrolled": true
   },
   "outputs": [
    {
     "data": {
      "text/plain": [
       "array([ 2,  3, -4])"
      ]
     },
     "execution_count": 81,
     "metadata": {},
     "output_type": "execute_result"
    }
   ],
   "source": [
    "A[0,:]"
   ]
  },
  {
   "cell_type": "code",
   "execution_count": 83,
   "metadata": {},
   "outputs": [
    {
     "data": {
      "text/plain": [
       "array([-4,  7, 10])"
      ]
     },
     "execution_count": 83,
     "metadata": {},
     "output_type": "execute_result"
    }
   ],
   "source": [
    "A[:, 2]"
   ]
  },
  {
   "cell_type": "code",
   "execution_count": 99,
   "metadata": {},
   "outputs": [
    {
     "data": {
      "text/plain": [
       "6"
      ]
     },
     "execution_count": 99,
     "metadata": {},
     "output_type": "execute_result"
    }
   ],
   "source": [
    "sum_second_column = np.sum(A[:, 1])\n",
    "sum_second_column"
   ]
  },
  {
   "cell_type": "code",
   "execution_count": 103,
   "metadata": {},
   "outputs": [
    {
     "data": {
      "text/plain": [
       "2.6666666666666665"
      ]
     },
     "execution_count": 103,
     "metadata": {},
     "output_type": "execute_result"
    }
   ],
   "source": [
    "average = np.mean(A)\n",
    "average"
   ]
  },
  {
   "cell_type": "code",
   "execution_count": 105,
   "metadata": {},
   "outputs": [
    {
     "data": {
      "text/plain": [
       "3.0"
      ]
     },
     "execution_count": 105,
     "metadata": {},
     "output_type": "execute_result"
    }
   ],
   "source": [
    "median = np.median(A[:,1])\n",
    "median"
   ]
  },
  {
   "cell_type": "markdown",
   "metadata": {},
   "source": [
    "<div class=\"exercise\"><b>Exercise 6</b></div>Use *broadcasting* to add the row [-2 1 2] to each of the rows of A<br>\n",
    "\n",
    "The expected output for this exercise is as follows:<br>\n",
    "        \n",
    "<code>[[ 0  4 -2]\n",
    " [-7 -5  9]\n",
    " [ 6 10 12]]</code>"
   ]
  },
  {
   "cell_type": "code",
   "execution_count": 113,
   "metadata": {},
   "outputs": [
    {
     "data": {
      "text/plain": [
       "array([[ 0,  4, -2],\n",
       "       [-7, -5,  9],\n",
       "       [ 6, 10, 12]])"
      ]
     },
     "execution_count": 113,
     "metadata": {},
     "output_type": "execute_result"
    }
   ],
   "source": [
    "add = np.array([-2,1,2])\n",
    "add_matrix = A + add\n",
    "add_matrix "
   ]
  },
  {
   "cell_type": "markdown",
   "metadata": {},
   "source": [
    "<div class=\"exercise\"><b>Exercise 7</b></div>Create and print a 4x3x2 (3-dimensional) array B consisting of the numbers 0 through 23\n",
    "\n",
    "The expected output for this exercise is as follows::<br>\n",
    "        \n",
    "<code>[[[ 0  1]\n",
    "  [ 2  3]\n",
    "  [ 4  5]]</code>\n",
    "\n",
    " <code>[[ 6  7]\n",
    "  [ 8  9]\n",
    "  [10 11]]</code>\n",
    "\n",
    " <code>[[12 13]\n",
    "  [14 15]\n",
    "  [16 17]]</code>\n",
    "\n",
    " <code>[[18 19]\n",
    "  [20 21]\n",
    "  [22 23]]]</code>"
   ]
  },
  {
   "cell_type": "code",
   "execution_count": 127,
   "metadata": {},
   "outputs": [
    {
     "data": {
      "text/plain": [
       "array([[[ 0,  1],\n",
       "        [ 2,  3],\n",
       "        [ 4,  5]],\n",
       "\n",
       "       [[ 6,  7],\n",
       "        [ 8,  9],\n",
       "        [10, 11]],\n",
       "\n",
       "       [[12, 13],\n",
       "        [14, 15],\n",
       "        [16, 17]],\n",
       "\n",
       "       [[18, 19],\n",
       "        [20, 21],\n",
       "        [22, 23]]])"
      ]
     },
     "execution_count": 127,
     "metadata": {},
     "output_type": "execute_result"
    }
   ],
   "source": [
    "matrix3D = np.arange(24).reshape(4, 3, 2)\n",
    "matrix3D"
   ]
  }
 ],
 "metadata": {
  "celltoolbar": "Raw Cell Format",
  "kernelspec": {
   "display_name": "Python [conda env:Attachments]",
   "language": "python",
   "name": "conda-env-Attachments-py"
  },
  "language_info": {
   "codemirror_mode": {
    "name": "ipython",
    "version": 3
   },
   "file_extension": ".py",
   "mimetype": "text/x-python",
   "name": "python",
   "nbconvert_exporter": "python",
   "pygments_lexer": "ipython3",
   "version": "3.12.7"
  }
 },
 "nbformat": 4,
 "nbformat_minor": 4
}
