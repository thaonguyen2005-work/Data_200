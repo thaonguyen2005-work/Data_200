{
 "cells": [
  {
   "cell_type": "markdown",
   "metadata": {},
   "source": [
    "# Data 200: Data Systems for Data Analytics (Spring 2025)\n"
   ]
  },
  {
   "cell_type": "code",
   "execution_count": null,
   "metadata": {},
   "outputs": [],
   "source": [
    "# Homework 5: Combining Tables in Pandas\n",
    "\n",
    "<font color='red'>**Due Date and Time:** 11:59 pm on Thursday, 2/20/2025 </font>\n",
    "---\n",
    "Enter your name in the markdown cell below."
   ]
  },
  {
   "cell_type": "markdown",
   "metadata": {},
   "source": [
    "# Name: Thao"
   ]
  },
  {
   "cell_type": "code",
   "execution_count": 1,
   "metadata": {},
   "outputs": [
    {
     "data": {
      "text/html": [
       "<style>\n",
       "blockquote { background: #AEDE94; }\n",
       "h1 { \n",
       "    padding-top: 25px;\n",
       "    padding-bottom: 25px;\n",
       "    text-align: left; \n",
       "    padding-left: 10px;\n",
       "    background-color: #DDDDDD; \n",
       "    color: black;\n",
       "}\n",
       "h2 { \n",
       "    padding-top: 10px;\n",
       "    padding-bottom: 10px;\n",
       "    text-align: left; \n",
       "    padding-left: 5px;\n",
       "    background-color: #EEEEEE; \n",
       "    color: black;\n",
       "}\n",
       "\n",
       "div.exercise {\n",
       "\tbackground-color: #ffcccc;\n",
       "\tborder-color: #E9967A; \t\n",
       "\tborder-left: 5px solid #800080; \n",
       "\tpadding: 0.5em;\n",
       "}\n",
       "\n",
       "div.exercise-r {\n",
       "\tbackground-color: #fce8e8;\n",
       "\tborder-color: #E9967A; \t\n",
       "\tborder-left: 5px solid #800080; \n",
       "\tpadding: 0.5em;\n",
       "}\n",
       "\n",
       "\n",
       "span.sub-q {\n",
       "\tfont-weight: bold;\n",
       "}\n",
       "div.theme {\n",
       "\tbackground-color: #DDDDDD;\n",
       "\tborder-color: #E9967A; \t\n",
       "\tborder-left: 5px solid #800080; \n",
       "\tpadding: 0.5em;\n",
       "\tfont-size: 18pt;\n",
       "}\n",
       "div.gc { \n",
       "\tbackground-color: #AEDE94;\n",
       "\tborder-color: #E9967A; \t \n",
       "\tborder-left: 5px solid #800080; \n",
       "\tpadding: 0.5em;\n",
       "\tfont-size: 12pt;\n",
       "}\n",
       "p.q1 { \n",
       "    padding-top: 5px;\n",
       "    padding-bottom: 5px;\n",
       "    text-align: left; \n",
       "    padding-left: 5px;\n",
       "    background-color: #EEEEEE; \n",
       "    color: black;\n",
       "}\n",
       "header {\n",
       "   padding-top: 35px;\n",
       "    padding-bottom: 35px;\n",
       "    text-align: left; \n",
       "    padding-left: 10px;\n",
       "    background-color: #DDDDDD; \n",
       "    color: black;\n",
       "}\n",
       "</style>\n",
       "\n"
      ],
      "text/plain": [
       "<IPython.core.display.HTML object>"
      ]
     },
     "execution_count": 1,
     "metadata": {},
     "output_type": "execute_result"
    }
   ],
   "source": [
    "## RUN THIS CELL TO GET THE RIGHT FORMATTING AND TO LOAD NumPy\n",
    "import requests\n",
    "import numpy as np\n",
    "from IPython.core.display import HTML\n",
    "styles = requests.get(\"https://raw.githubusercontent.com/Harvard-IACS/2018-CS109A/master/content/styles/cs109.css\").text\n",
    "HTML(styles)"
   ]
  },
  {
   "cell_type": "markdown",
   "metadata": {},
   "source": [
    "# Tasks\n",
    "\n",
    "- Review pages 123-132 in the Course Notes.\n",
    "- Complete the **Data Merging Basics** and the **Merging Tables With Different Join Types** chapters of the **Joining Data with Pandas** course on DataCamp\n",
    "- Submit your completed Jupyter Notebook on Moodle."
   ]
  },
  {
   "cell_type": "markdown",
   "metadata": {},
   "source": [
    "# Exercises"
   ]
  },
  {
   "cell_type": "markdown",
   "metadata": {},
   "source": [
    "This homework will give you some practice with combining tables in Pandas.  The data for this assignment is contained in the `hw05Data` folder.  Note that the data sets are quite large, and as such, we will not be printing them.  However, we will make use of the `shape` of the data frames to determine if the data frames were combined correctly."
   ]
  },
  {
   "cell_type": "markdown",
   "metadata": {},
   "source": [
    "<div class=\"exercise\"><b>Exercise 1: Concatenating Along the Row Dimension</b></div> \n",
    "\n",
    "In the data directory, you will find two csv files, `educationTop.csv` and `educationBottom.csv`, both based on data hosted by www.census.gov. Both have the same columns, and each row is a U.S. metropolitan area, with data on population, education, and unemployment. The first csv file contains metropolitan areas starting with A-K, and the second starting with L-Z.\n",
    "\n",
    "In the code cell below, I already did the following:\n",
    "- I imported both the Pandas and os libraries.\n",
    "- I set `datadir = \"hw05Data\"` and used the `os.path.join(.)` function to open the data files (so that the code works on both a Mac and PC).\n",
    "- I read in the file `educationTop.csv`, using the column `Id` as the index, and assigned it to the data frame `ed_top_df`.<br>\n",
    "- I read in the file `educationBottom.csv`, using the column `Id` as the index, and assigned it to the data frame `ed_bottom_df`.<br>\n",
    "\n",
    "**Your job is to add Python code to the cell below to do the following:**<br>\n",
    "\n",
    "1.  Concatenate these two data frames along the row dimension (with `ed_top_df` on top), and call the result `educationDF`.\n",
    "1.  Print `ed_top_df.shape`, `ed_bottom_df.shape`, and `educationDF.shape`, mimicking my output below.\n",
    "1.  Print the first five rows of `educationDF` for columns indexed 0 and 1 using the command `print(educationDF.head().iloc[:,:2])`.\n",
    "\n",
    "The output from my solution is:<br>\n",
    "<code>\n",
    "The shape of ed_top_df is (176, 59)\n",
    "The shape of ed_bottom_df is (190, 59)\n",
    "The shape of educationDF is (366, 59)\n",
    "</code><code>\n",
    "                                    Geography  Estimate; Total:\n",
    "Id                                                             \n",
    "10180                  Abilene, TX Metro Area             82270\n",
    "10420                    Akron, OH Metro Area            369311\n",
    "10500                   Albany, GA Metro Area             78159\n",
    "10580  Albany-Schenectady-Troy, NY Metro Area            466236\n",
    "10740              Albuquerque, NM Metro Area            476942</code>"
   ]
  },
  {
   "cell_type": "code",
   "execution_count": 29,
   "metadata": {},
   "outputs": [
    {
     "name": "stdout",
     "output_type": "stream",
     "text": [
      "The shape of ed_top_df is (176, 59)\n",
      "The shape of ed_bottom_df is (190, 59)\n",
      "The shape of educationDF is (366, 59)\n",
      "                                    Geography  Estimate; Total:\n",
      "Id                                                             \n",
      "10180                  Abilene, TX Metro Area             82270\n",
      "10420                    Akron, OH Metro Area            369311\n",
      "10500                   Albany, GA Metro Area             78159\n",
      "10580  Albany-Schenectady-Troy, NY Metro Area            466236\n",
      "10740              Albuquerque, NM Metro Area            476942\n"
     ]
    }
   ],
   "source": [
    "import pandas as pd\n",
    "import os\n",
    "\n",
    "datadir = \"hw05Data\"\n",
    "topFilepath = os.path.join(datadir, \"educationTop.csv\")\n",
    "bottomFilepath = os.path.join(datadir, \"educationBottom.csv\")\n",
    "\n",
    "ed_top_df = pd.read_csv(topFilepath, index_col='Id')\n",
    "ed_bottom_df = pd.read_csv(bottomFilepath, index_col='Id')\n",
    "\n",
    "#### Enter your code below ####\n",
    "educationDF = pd.concat([ed_top_df, ed_bottom_df], axis=0)\n",
    "print(f'The shape of ed_top_df is {ed_top_df.shape}')\n",
    "print(f'The shape of ed_bottom_df is {ed_bottom_df.shape}')\n",
    "print(f'The shape of educationDF is {educationDF.shape}')\n",
    "print(educationDF.head().iloc[:,:2])"
   ]
  },
  {
   "cell_type": "markdown",
   "metadata": {},
   "source": [
    "<div class=\"exercise\"><b>Exercise 2: Concatenating Along the Column Dimension</b></div> \n",
    "\n",
    "In the data directory, you will find two csv files, `educationLeft.csv` and `educationRight.csv`, both based on data hosted by www.census.gov. Both have the same rows, and each row is a U.S. metropolitan area, with data on population, education, and unemployment. The first has information on individuals without a college degree, and the second has information on individuals with a college degree. \n",
    "\n",
    "1.  Read in the file `educationLeft.csv`, using the column `Geography` as the index, and assign it to the data frame `ed_left_df`.<br>\n",
    "1.  Read in the file `educationRight.csv`, using the column `Geography` as the index, and assign it to the data frame `ed_right_df`.<br>\n",
    "1.  Concatenate these two data frames along the column dimension, and call the result `educationDF2`.\n",
    "1.  Print `educationDF2.shape`, mimicking my output below.\n",
    "\n",
    "The output from my solution is:<br>\n",
    "<code>\n",
    "The shape of educationDF2 is (366, 58)\n",
    "</code><code>"
   ]
  },
  {
   "cell_type": "code",
   "execution_count": 37,
   "metadata": {},
   "outputs": [
    {
     "name": "stdout",
     "output_type": "stream",
     "text": [
      "The shape of educationDF2 is (366, 58)\n"
     ]
    }
   ],
   "source": [
    "leftFilepath = os.path.join(datadir, \"educationLeft.csv\")\n",
    "rightFilepath = os.path.join(datadir, \"educationRight.csv\")\n",
    "\n",
    "ed_left_df = pd.read_csv(leftFilepath, index_col='Geography')\n",
    "ed_right_df = pd.read_csv(rightFilepath, index_col='Geography')\n",
    "\n",
    "educationDF2 = pd.concat([ed_left_df, ed_right_df], axis=1)\n",
    "print(f'The shape of educationDF2 is {educationDF2.shape}')"
   ]
  },
  {
   "cell_type": "markdown",
   "metadata": {},
   "source": [
    "<div class=\"exercise\"><b>Exercise 3: Merging Data Frames with Join</b></div> \n",
    "\n",
    "In the data directory, you will find two csv files, `educationLeftJ.csv` and `educationRightJ.csv`, both based on data hosted by www.census.gov. In both, rows represent U.S. metropolitan area, with data on population, education, and unemployment. **However, they do not have exactly the same set of rows, and the columns are totally different except for the index column `Geography`.**\n",
    "\n",
    "1.  Read in the file `educationLeftJ.csv`, using the column `Geography` as the index, and assign it to the data frame `ed_leftJ_df`.<br>\n",
    "1.  Read in the file `educationRightJ.csv`, using the column `Geography` as the index, and assign it to the data frame `ed_rightJ_df`.<br>\n",
    "1.  Make a copy of `ed_leftJ_df` called `ed_leftJ_dfOriginal` (using the `.copy()` method)\n",
    "1.  Starting with `ed_leftJ_df`, do a *left join* to bring in the data from `ed_rightJ_df`, storing your answer as `dfJ`.\n",
    "1.  Starting with `ed_leftJ_dfOriginal`, do an *inner join* to bring in the data from `ed_rightJ_df`, storing your answer as `dfJ2`.\n",
    "1.  Print `dfJ.shape` and `dfJ2.shape`, mimicking my output below.\n",
    "\n",
    "The output from my solution is:<br>\n",
    "<code>\n",
    "The shape of dfJ is (249, 24)\n",
    "The shape of dfJ2 is (152, 24)\n",
    "</code>"
   ]
  },
  {
   "cell_type": "code",
   "execution_count": 47,
   "metadata": {},
   "outputs": [
    {
     "name": "stdout",
     "output_type": "stream",
     "text": [
      "The shape of dfJ is (249, 24)\n",
      "The shape of dfJ2 is (152, 24)\n"
     ]
    }
   ],
   "source": [
    "leftJFilepath = os.path.join(datadir, \"educationLeftJ.csv\")\n",
    "rightJFilepath = os.path.join(datadir, \"educationRightJ.csv\")\n",
    "\n",
    "ed_leftJ_df = pd.read_csv(leftJFilepath, index_col='Geography')\n",
    "ed_rightJ_df = pd.read_csv(rightJFilepath, index_col='Geography')\n",
    "\n",
    "ed_leftJ_dfOriginal = ed_leftJ_df.copy()\n",
    "\n",
    "dfJ = ed_leftJ_df.join(ed_rightJ_df, how=\"left\")\n",
    "dfJ2 = ed_leftJ_dfOriginal.join(ed_rightJ_df, how=\"inner\")\n",
    "\n",
    "print(f'The shape of dfJ is {dfJ.shape}')\n",
    "print(f'The shape of dfJ2 is {dfJ2.shape}')"
   ]
  },
  {
   "cell_type": "markdown",
   "metadata": {},
   "source": [
    "<div class=\"exercise\"><b>Exercise 4: Merging Data Frames with Merge</b></div> \n",
    "\n",
    "We are once again going to consider the data sets `educationLeftJ.csv` and `educationRightJ.csv`, however, we will read them in without a meaningful index.  That is, we will not assign an index when using the `read_csv()` function.\n",
    "\n",
    "1.  Read in the file `educationLeftJ.csv` with no meaningful index and assign it to the data frame `eduLeft`.<br>\n",
    "1.  Read in the file `educationRightJ.csv` with no meaningful index and assign it to the data frame `eduRight`.<br>\n",
    "1.  Starting from `eduLeft`, do an *inner merge* along the column `Geography`, storing your answer as `dfJ3`.\n",
    "1.  Print `dfJ3.shape`, mimicking my output below.\n",
    "\n",
    "The output from my solution is:<br>\n",
    "<code>\n",
    "The shape of dfJ3 is (152, 25)\n",
    "</code><code>"
   ]
  },
  {
   "cell_type": "code",
   "execution_count": 51,
   "metadata": {},
   "outputs": [
    {
     "name": "stdout",
     "output_type": "stream",
     "text": [
      "The shape of dfJ3 is (152, 25)\n"
     ]
    }
   ],
   "source": [
    "eduLeft = pd.read_csv(leftJFilepath)\n",
    "eduRight = pd.read_csv(rightJFilepath)\n",
    "dfJ3 = pd.merge(eduLeft, eduRight, on='Geography', how='inner')\n",
    "print(f'The shape of dfJ3 is {dfJ3.shape}')"
   ]
  }
 ],
 "metadata": {
  "celltoolbar": "Raw Cell Format",
  "kernelspec": {
   "display_name": "Python [conda env:Attachments]",
   "language": "python",
   "name": "conda-env-Attachments-py"
  },
  "language_info": {
   "codemirror_mode": {
    "name": "ipython",
    "version": 3
   },
   "file_extension": ".py",
   "mimetype": "text/x-python",
   "name": "python",
   "nbconvert_exporter": "python",
   "pygments_lexer": "ipython3",
   "version": "3.12.7"
  }
 },
 "nbformat": 4,
 "nbformat_minor": 4
}
