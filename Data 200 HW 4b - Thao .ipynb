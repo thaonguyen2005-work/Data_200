{
 "cells": [
  {
   "cell_type": "markdown",
   "id": "9cf8fc42",
   "metadata": {},
   "source": [
    "# Data 200: Data Systems for Data Analytics (Spring 2025)"
   ]
  },
  {
   "cell_type": "markdown",
   "id": "5b40725d",
   "metadata": {},
   "source": [
    "# Homework 4b: Advanced Operations in Pandas\n",
    "\n",
    "\n",
    "<font color='red'>**Due Date and Time:** 11:59 pm on Monday, 2/17/2025 </font>\n",
    "---\n",
    "Enter your name in the markdown cell below."
   ]
  },
  {
   "cell_type": "markdown",
   "id": "ec1ca0bb",
   "metadata": {},
   "source": [
    "# Name:"
   ]
  },
  {
   "cell_type": "code",
   "execution_count": 1,
   "id": "aa520b08",
   "metadata": {},
   "outputs": [
    {
     "data": {
      "text/html": [
       "<style>\n",
       "blockquote { background: #AEDE94; }\n",
       "h1 { \n",
       "    padding-top: 25px;\n",
       "    padding-bottom: 25px;\n",
       "    text-align: left; \n",
       "    padding-left: 10px;\n",
       "    background-color: #DDDDDD; \n",
       "    color: black;\n",
       "}\n",
       "h2 { \n",
       "    padding-top: 10px;\n",
       "    padding-bottom: 10px;\n",
       "    text-align: left; \n",
       "    padding-left: 5px;\n",
       "    background-color: #EEEEEE; \n",
       "    color: black;\n",
       "}\n",
       "\n",
       "div.exercise {\n",
       "\tbackground-color: #ffcccc;\n",
       "\tborder-color: #E9967A; \t\n",
       "\tborder-left: 5px solid #800080; \n",
       "\tpadding: 0.5em;\n",
       "}\n",
       "\n",
       "div.exercise-r {\n",
       "\tbackground-color: #fce8e8;\n",
       "\tborder-color: #E9967A; \t\n",
       "\tborder-left: 5px solid #800080; \n",
       "\tpadding: 0.5em;\n",
       "}\n",
       "\n",
       "\n",
       "span.sub-q {\n",
       "\tfont-weight: bold;\n",
       "}\n",
       "div.theme {\n",
       "\tbackground-color: #DDDDDD;\n",
       "\tborder-color: #E9967A; \t\n",
       "\tborder-left: 5px solid #800080; \n",
       "\tpadding: 0.5em;\n",
       "\tfont-size: 18pt;\n",
       "}\n",
       "div.gc { \n",
       "\tbackground-color: #AEDE94;\n",
       "\tborder-color: #E9967A; \t \n",
       "\tborder-left: 5px solid #800080; \n",
       "\tpadding: 0.5em;\n",
       "\tfont-size: 12pt;\n",
       "}\n",
       "p.q1 { \n",
       "    padding-top: 5px;\n",
       "    padding-bottom: 5px;\n",
       "    text-align: left; \n",
       "    padding-left: 5px;\n",
       "    background-color: #EEEEEE; \n",
       "    color: black;\n",
       "}\n",
       "header {\n",
       "   padding-top: 35px;\n",
       "    padding-bottom: 35px;\n",
       "    text-align: left; \n",
       "    padding-left: 10px;\n",
       "    background-color: #DDDDDD; \n",
       "    color: black;\n",
       "}\n",
       "</style>\n",
       "\n"
      ],
      "text/plain": [
       "<IPython.core.display.HTML object>"
      ]
     },
     "execution_count": 1,
     "metadata": {},
     "output_type": "execute_result"
    }
   ],
   "source": [
    "## RUN THIS CELL TO GET THE RIGHT FORMATTING AND TO LOAD NumPy\n",
    "import requests\n",
    "import numpy as np\n",
    "from IPython.core.display import HTML\n",
    "styles = requests.get(\"https://raw.githubusercontent.com/Harvard-IACS/2018-CS109A/master/content/styles/cs109.css\").text\n",
    "HTML(styles)"
   ]
  },
  {
   "cell_type": "markdown",
   "id": "31dafaca",
   "metadata": {},
   "source": [
    "# Tasks\n",
    "\n",
    "- Review pages 113-122 in the Course Notes.\n",
    "- Submit completed Jupyter notebook on Moodle."
   ]
  },
  {
   "cell_type": "markdown",
   "id": "06bb76b2",
   "metadata": {},
   "source": [
    "# Exercises\n",
    "\n",
    "The file `tourism.csv` contains data collected from the Las Vegas tourism bureau--this should be in the same directory as this notebook.<br><br>\n",
    "\n",
    "<div class=\"exercise\"><b>Exercise 1</b></div> \n",
    "\n",
    "In the code cell below, write Python code to do the following.<br>\n",
    "\n",
    "- Import the Pandas library\n",
    "- Read in the file `tourism.csv` and assign it to the data frame `lv_df`.<br>\n",
    "- Print out the first five rows using the `head()` function\n",
    "- Take a couple of minutes to familiarize yourself with the data set"
   ]
  },
  {
   "cell_type": "code",
   "execution_count": 3,
   "id": "d40a6f7e",
   "metadata": {
    "scrolled": true
   },
   "outputs": [
    {
     "data": {
      "text/html": [
       "<div>\n",
       "<style scoped>\n",
       "    .dataframe tbody tr th:only-of-type {\n",
       "        vertical-align: middle;\n",
       "    }\n",
       "\n",
       "    .dataframe tbody tr th {\n",
       "        vertical-align: top;\n",
       "    }\n",
       "\n",
       "    .dataframe thead th {\n",
       "        text-align: right;\n",
       "    }\n",
       "</style>\n",
       "<table border=\"1\" class=\"dataframe\">\n",
       "  <thead>\n",
       "    <tr style=\"text-align: right;\">\n",
       "      <th></th>\n",
       "      <th>date</th>\n",
       "      <th>visitors</th>\n",
       "      <th>convention</th>\n",
       "      <th>roomsavail</th>\n",
       "      <th>occupancy</th>\n",
       "      <th>avgrate</th>\n",
       "      <th>revperroom</th>\n",
       "      <th>roomnights</th>\n",
       "      <th>planepassengers</th>\n",
       "      <th>avgtraffic</th>\n",
       "      <th>gamingrevenue</th>\n",
       "    </tr>\n",
       "  </thead>\n",
       "  <tbody>\n",
       "    <tr>\n",
       "      <th>0</th>\n",
       "      <td>Jan-2017</td>\n",
       "      <td>3508800</td>\n",
       "      <td>736000</td>\n",
       "      <td>148693</td>\n",
       "      <td>0.857</td>\n",
       "      <td>149.13</td>\n",
       "      <td>127.80441</td>\n",
       "      <td>3951300</td>\n",
       "      <td>3676329</td>\n",
       "      <td>99390</td>\n",
       "      <td>926124000.0</td>\n",
       "    </tr>\n",
       "    <tr>\n",
       "      <th>1</th>\n",
       "      <td>Feb-2017</td>\n",
       "      <td>3150500</td>\n",
       "      <td>620200</td>\n",
       "      <td>147866</td>\n",
       "      <td>0.856</td>\n",
       "      <td>116.73</td>\n",
       "      <td>99.92088</td>\n",
       "      <td>3545900</td>\n",
       "      <td>3432220</td>\n",
       "      <td>102967</td>\n",
       "      <td>825618000.0</td>\n",
       "    </tr>\n",
       "    <tr>\n",
       "      <th>2</th>\n",
       "      <td>Mar-2017</td>\n",
       "      <td>3783900</td>\n",
       "      <td>757400</td>\n",
       "      <td>147717</td>\n",
       "      <td>0.940</td>\n",
       "      <td>148.55</td>\n",
       "      <td>139.63700</td>\n",
       "      <td>4303200</td>\n",
       "      <td>4206358</td>\n",
       "      <td>117771</td>\n",
       "      <td>857317000.0</td>\n",
       "    </tr>\n",
       "    <tr>\n",
       "      <th>3</th>\n",
       "      <td>Apr-2017</td>\n",
       "      <td>3545100</td>\n",
       "      <td>505800</td>\n",
       "      <td>147566</td>\n",
       "      <td>0.907</td>\n",
       "      <td>123.52</td>\n",
       "      <td>112.03264</td>\n",
       "      <td>4016100</td>\n",
       "      <td>4062190</td>\n",
       "      <td>121743</td>\n",
       "      <td>763254000.0</td>\n",
       "    </tr>\n",
       "    <tr>\n",
       "      <th>4</th>\n",
       "      <td>May-2017</td>\n",
       "      <td>3602100</td>\n",
       "      <td>514600</td>\n",
       "      <td>147656</td>\n",
       "      <td>0.891</td>\n",
       "      <td>124.51</td>\n",
       "      <td>110.93841</td>\n",
       "      <td>4078400</td>\n",
       "      <td>4208019</td>\n",
       "      <td>119812</td>\n",
       "      <td>860700000.0</td>\n",
       "    </tr>\n",
       "  </tbody>\n",
       "</table>\n",
       "</div>"
      ],
      "text/plain": [
       "       date  visitors  convention  roomsavail  occupancy  avgrate  revperroom  \\\n",
       "0  Jan-2017   3508800      736000      148693      0.857   149.13   127.80441   \n",
       "1  Feb-2017   3150500      620200      147866      0.856   116.73    99.92088   \n",
       "2  Mar-2017   3783900      757400      147717      0.940   148.55   139.63700   \n",
       "3  Apr-2017   3545100      505800      147566      0.907   123.52   112.03264   \n",
       "4  May-2017   3602100      514600      147656      0.891   124.51   110.93841   \n",
       "\n",
       "   roomnights  planepassengers  avgtraffic  gamingrevenue  \n",
       "0     3951300          3676329       99390    926124000.0  \n",
       "1     3545900          3432220      102967    825618000.0  \n",
       "2     4303200          4206358      117771    857317000.0  \n",
       "3     4016100          4062190      121743    763254000.0  \n",
       "4     4078400          4208019      119812    860700000.0  "
      ]
     },
     "execution_count": 3,
     "metadata": {},
     "output_type": "execute_result"
    }
   ],
   "source": [
    "import pandas as pd\n",
    "lv_df = pd.read_csv('tourism.csv')\n",
    "lv_df.head()"
   ]
  },
  {
   "cell_type": "markdown",
   "id": "3c154ff0",
   "metadata": {},
   "source": [
    "<div class=\"exercise\"><b>Exercise 2</b></div>\n",
    "\n",
    "Assign `max_visitors` the maximum number of visitors in the data set--please display the result.\n",
    "\n",
    "The output from my solution is:<br>\n",
    "<code>\n",
    "The maximum number of visitors was 3788800</code>"
   ]
  },
  {
   "cell_type": "code",
   "execution_count": 13,
   "id": "78b87a2e",
   "metadata": {},
   "outputs": [
    {
     "name": "stdout",
     "output_type": "stream",
     "text": [
      "The maximum number of visitors was 3788800\n"
     ]
    }
   ],
   "source": [
    "max_visitors = lv_df['visitors'].max()\n",
    "print(f'The maximum number of visitors was {max_visitors}')"
   ]
  },
  {
   "cell_type": "markdown",
   "id": "9206ca3b",
   "metadata": {},
   "source": [
    "<div class=\"exercise\"><b>Exercise 3</b></div>\n",
    "\n",
    "Write Python code in the cell below to do the following.\n",
    "\n",
    "- Sort the data by the number of visitors (in descending order) and assign the new data frame to `lv_sorted`.\n",
    "- Print the first **10** rows of `lv_sorted`, but only for the `date` and `visitors` columns.\n",
    "\n",
    "The output from my solution is:<br>\n",
    "<code>\n",
    "        date  visitors\n",
    "6   Jul-2017   3788800\n",
    "2   Mar-2017   3783900\n",
    "14  Mar-2018   3749800\n",
    "26  Mar-2019   3697100\n",
    "28  May-2019   3691100\n",
    "30  Jul-2019   3685900\n",
    "21  Oct-2018   3680600\n",
    "18  Jul-2018   3659600\n",
    "16  May-2018   3630400\n",
    "29  Jun-2019   3607400\n",
    "</code>"
   ]
  },
  {
   "cell_type": "code",
   "execution_count": 23,
   "id": "d291fe79",
   "metadata": {},
   "outputs": [
    {
     "data": {
      "text/html": [
       "<div>\n",
       "<style scoped>\n",
       "    .dataframe tbody tr th:only-of-type {\n",
       "        vertical-align: middle;\n",
       "    }\n",
       "\n",
       "    .dataframe tbody tr th {\n",
       "        vertical-align: top;\n",
       "    }\n",
       "\n",
       "    .dataframe thead th {\n",
       "        text-align: right;\n",
       "    }\n",
       "</style>\n",
       "<table border=\"1\" class=\"dataframe\">\n",
       "  <thead>\n",
       "    <tr style=\"text-align: right;\">\n",
       "      <th></th>\n",
       "      <th>date</th>\n",
       "      <th>visitors</th>\n",
       "    </tr>\n",
       "  </thead>\n",
       "  <tbody>\n",
       "    <tr>\n",
       "      <th>6</th>\n",
       "      <td>Jul-2017</td>\n",
       "      <td>3788800</td>\n",
       "    </tr>\n",
       "    <tr>\n",
       "      <th>2</th>\n",
       "      <td>Mar-2017</td>\n",
       "      <td>3783900</td>\n",
       "    </tr>\n",
       "    <tr>\n",
       "      <th>14</th>\n",
       "      <td>Mar-2018</td>\n",
       "      <td>3749800</td>\n",
       "    </tr>\n",
       "    <tr>\n",
       "      <th>26</th>\n",
       "      <td>Mar-2019</td>\n",
       "      <td>3697100</td>\n",
       "    </tr>\n",
       "    <tr>\n",
       "      <th>28</th>\n",
       "      <td>May-2019</td>\n",
       "      <td>3691100</td>\n",
       "    </tr>\n",
       "    <tr>\n",
       "      <th>30</th>\n",
       "      <td>Jul-2019</td>\n",
       "      <td>3685900</td>\n",
       "    </tr>\n",
       "    <tr>\n",
       "      <th>21</th>\n",
       "      <td>Oct-2018</td>\n",
       "      <td>3680600</td>\n",
       "    </tr>\n",
       "    <tr>\n",
       "      <th>18</th>\n",
       "      <td>Jul-2018</td>\n",
       "      <td>3659600</td>\n",
       "    </tr>\n",
       "    <tr>\n",
       "      <th>16</th>\n",
       "      <td>May-2018</td>\n",
       "      <td>3630400</td>\n",
       "    </tr>\n",
       "    <tr>\n",
       "      <th>29</th>\n",
       "      <td>Jun-2019</td>\n",
       "      <td>3607400</td>\n",
       "    </tr>\n",
       "  </tbody>\n",
       "</table>\n",
       "</div>"
      ],
      "text/plain": [
       "        date  visitors\n",
       "6   Jul-2017   3788800\n",
       "2   Mar-2017   3783900\n",
       "14  Mar-2018   3749800\n",
       "26  Mar-2019   3697100\n",
       "28  May-2019   3691100\n",
       "30  Jul-2019   3685900\n",
       "21  Oct-2018   3680600\n",
       "18  Jul-2018   3659600\n",
       "16  May-2018   3630400\n",
       "29  Jun-2019   3607400"
      ]
     },
     "execution_count": 23,
     "metadata": {},
     "output_type": "execute_result"
    }
   ],
   "source": [
    "lv_sorted = lv_df.sort_values('visitors', ascending = False)\n",
    "lv_sorted[['date', 'visitors']].head(10)"
   ]
  },
  {
   "cell_type": "markdown",
   "id": "364c9d67",
   "metadata": {},
   "source": [
    "<div class=\"exercise\"><b>Exercise 4</b></div>\n",
    "\n",
    "In the code cell below, define a lambda function called `get_month()` that takes a string of the form in the `date` column of our dataframe, i.e., 'month-year', and returns just the <u>month name</u>.\n",
    "\n",
    "For example, `get_year('Aug-2017')` would return `Aug`.\n",
    "\n",
    "The output from my solution below is:<br>\n",
    "<code>\n",
    "'Jul'</code>"
   ]
  },
  {
   "cell_type": "code",
   "execution_count": 33,
   "id": "b7157375",
   "metadata": {},
   "outputs": [
    {
     "data": {
      "text/plain": [
       "'Jul'"
      ]
     },
     "execution_count": 33,
     "metadata": {},
     "output_type": "execute_result"
    }
   ],
   "source": [
    "test = 'Jul-2017'\n",
    "## Define your lambda function here\n",
    "get_month = lambda x: x.split('-')[0]\n",
    "get_month('Jul-2018')"
   ]
  },
  {
   "cell_type": "markdown",
   "id": "c8eb6170",
   "metadata": {},
   "source": [
    "<div class=\"exercise\"><b>Exercise 5</b></div>\n",
    "\n",
    "In the code cell below, define a lambda function called `get_year()` that takes a string of the form in the `date` column of our dataframe, i.e., 'month-year', and returns just the <u>year</u> *as an integer*.\n",
    "\n",
    "For example, `get_year('Aug-2017')` would return `2017` as an integer.\n",
    "\n",
    "The output from my solution below is:<br>\n",
    "<code>\n",
    "2018</code>"
   ]
  },
  {
   "cell_type": "code",
   "execution_count": 43,
   "id": "eedbd677",
   "metadata": {},
   "outputs": [
    {
     "data": {
      "text/plain": [
       "2018"
      ]
     },
     "execution_count": 43,
     "metadata": {},
     "output_type": "execute_result"
    }
   ],
   "source": [
    "## Define your lambda function here\n",
    "get_year = lambda x: int(x.split('-')[1])\n",
    "get_year('Jul-2018')"
   ]
  },
  {
   "cell_type": "markdown",
   "id": "5f64caa2",
   "metadata": {},
   "source": [
    "<div class=\"exercise\"><b>Exercise 6</b></div>\n",
    "\n",
    "Write Python code in the cell below to do the following.\n",
    "\n",
    "- Using your lambda function `get_month()` and the `apply()` function, add a new column to `lv_sorted` called `month` that contains the month for each row.\n",
    "- Using your lambda function `get_year()` and the `apply()` function, add a new column to `lv_sorted`called `year` that contains the year for each row.\n",
    "- Print the first **10** rows of `lv_sorted`, but only for the `month`, `year`, and `visitors` columns. \n",
    "\n",
    "The output from my solution is:<br>\n",
    "<code>\n",
    "   month  year  visitors\n",
    "6    Jul  2017   3788800\n",
    "2    Mar  2017   3783900\n",
    "14   Mar  2018   3749800\n",
    "26   Mar  2019   3697100\n",
    "28   May  2019   3691100\n",
    "30   Jul  2019   3685900\n",
    "21   Oct  2018   3680600\n",
    "18   Jul  2018   3659600\n",
    "16   May  2018   3630400\n",
    "29   Jun  2019   3607400</code>"
   ]
  },
  {
   "cell_type": "code",
   "execution_count": 47,
   "id": "edd9e475",
   "metadata": {},
   "outputs": [
    {
     "data": {
      "text/html": [
       "<div>\n",
       "<style scoped>\n",
       "    .dataframe tbody tr th:only-of-type {\n",
       "        vertical-align: middle;\n",
       "    }\n",
       "\n",
       "    .dataframe tbody tr th {\n",
       "        vertical-align: top;\n",
       "    }\n",
       "\n",
       "    .dataframe thead th {\n",
       "        text-align: right;\n",
       "    }\n",
       "</style>\n",
       "<table border=\"1\" class=\"dataframe\">\n",
       "  <thead>\n",
       "    <tr style=\"text-align: right;\">\n",
       "      <th></th>\n",
       "      <th>month</th>\n",
       "      <th>year</th>\n",
       "      <th>visitors</th>\n",
       "    </tr>\n",
       "  </thead>\n",
       "  <tbody>\n",
       "    <tr>\n",
       "      <th>6</th>\n",
       "      <td>Jul</td>\n",
       "      <td>2017</td>\n",
       "      <td>3788800</td>\n",
       "    </tr>\n",
       "    <tr>\n",
       "      <th>2</th>\n",
       "      <td>Mar</td>\n",
       "      <td>2017</td>\n",
       "      <td>3783900</td>\n",
       "    </tr>\n",
       "    <tr>\n",
       "      <th>14</th>\n",
       "      <td>Mar</td>\n",
       "      <td>2018</td>\n",
       "      <td>3749800</td>\n",
       "    </tr>\n",
       "    <tr>\n",
       "      <th>26</th>\n",
       "      <td>Mar</td>\n",
       "      <td>2019</td>\n",
       "      <td>3697100</td>\n",
       "    </tr>\n",
       "    <tr>\n",
       "      <th>28</th>\n",
       "      <td>May</td>\n",
       "      <td>2019</td>\n",
       "      <td>3691100</td>\n",
       "    </tr>\n",
       "    <tr>\n",
       "      <th>30</th>\n",
       "      <td>Jul</td>\n",
       "      <td>2019</td>\n",
       "      <td>3685900</td>\n",
       "    </tr>\n",
       "    <tr>\n",
       "      <th>21</th>\n",
       "      <td>Oct</td>\n",
       "      <td>2018</td>\n",
       "      <td>3680600</td>\n",
       "    </tr>\n",
       "    <tr>\n",
       "      <th>18</th>\n",
       "      <td>Jul</td>\n",
       "      <td>2018</td>\n",
       "      <td>3659600</td>\n",
       "    </tr>\n",
       "    <tr>\n",
       "      <th>16</th>\n",
       "      <td>May</td>\n",
       "      <td>2018</td>\n",
       "      <td>3630400</td>\n",
       "    </tr>\n",
       "    <tr>\n",
       "      <th>29</th>\n",
       "      <td>Jun</td>\n",
       "      <td>2019</td>\n",
       "      <td>3607400</td>\n",
       "    </tr>\n",
       "  </tbody>\n",
       "</table>\n",
       "</div>"
      ],
      "text/plain": [
       "   month  year  visitors\n",
       "6    Jul  2017   3788800\n",
       "2    Mar  2017   3783900\n",
       "14   Mar  2018   3749800\n",
       "26   Mar  2019   3697100\n",
       "28   May  2019   3691100\n",
       "30   Jul  2019   3685900\n",
       "21   Oct  2018   3680600\n",
       "18   Jul  2018   3659600\n",
       "16   May  2018   3630400\n",
       "29   Jun  2019   3607400"
      ]
     },
     "execution_count": 47,
     "metadata": {},
     "output_type": "execute_result"
    }
   ],
   "source": [
    "get_month = lambda x: x.split('-')[0]\n",
    "get_year = lambda x: int(x.split('-')[1])\n",
    "lv_sorted['month'] = lv_sorted['date'].apply(get_month)\n",
    "lv_sorted['year'] = lv_sorted['date'].apply(get_year)\n",
    "lv_sorted[['month', 'year', 'visitors']].head(10)"
   ]
  },
  {
   "cell_type": "markdown",
   "id": "6ee79a79",
   "metadata": {},
   "source": [
    "<div class=\"exercise\"><b>Exercise 7</b></div>\n",
    "\n",
    "Project columns `year`, `month`, `visitors`, `convention`, and `roomsavail` of `lv_sorted` and assign to `lv_df2`. Finish by printing the last 7 lines of the result. \n",
    "\n",
    "The output from my solution is:<br>\n",
    "<code>\n",
    "    year month  visitors  convention  roomsavail\n",
    "12  2018   Jan   3393900      612900      146715\n",
    "10  2017   Nov   3300500      530600      146222\n",
    "23  2018   Dec   3267600      221800      147238\n",
    "11  2017   Dec   3194800      289100      146993\n",
    "25  2019   Feb   3189900      748600      148168\n",
    "1   2017   Feb   3150500      620200      147866\n",
    "13  2018   Feb   3130400      690000      146672</code>"
   ]
  },
  {
   "cell_type": "code",
   "execution_count": 49,
   "id": "1b96fbf3",
   "metadata": {},
   "outputs": [
    {
     "data": {
      "text/html": [
       "<div>\n",
       "<style scoped>\n",
       "    .dataframe tbody tr th:only-of-type {\n",
       "        vertical-align: middle;\n",
       "    }\n",
       "\n",
       "    .dataframe tbody tr th {\n",
       "        vertical-align: top;\n",
       "    }\n",
       "\n",
       "    .dataframe thead th {\n",
       "        text-align: right;\n",
       "    }\n",
       "</style>\n",
       "<table border=\"1\" class=\"dataframe\">\n",
       "  <thead>\n",
       "    <tr style=\"text-align: right;\">\n",
       "      <th></th>\n",
       "      <th>year</th>\n",
       "      <th>month</th>\n",
       "      <th>visitors</th>\n",
       "      <th>convention</th>\n",
       "      <th>roomsavail</th>\n",
       "    </tr>\n",
       "  </thead>\n",
       "  <tbody>\n",
       "    <tr>\n",
       "      <th>12</th>\n",
       "      <td>2018</td>\n",
       "      <td>Jan</td>\n",
       "      <td>3393900</td>\n",
       "      <td>612900</td>\n",
       "      <td>146715</td>\n",
       "    </tr>\n",
       "    <tr>\n",
       "      <th>10</th>\n",
       "      <td>2017</td>\n",
       "      <td>Nov</td>\n",
       "      <td>3300500</td>\n",
       "      <td>530600</td>\n",
       "      <td>146222</td>\n",
       "    </tr>\n",
       "    <tr>\n",
       "      <th>23</th>\n",
       "      <td>2018</td>\n",
       "      <td>Dec</td>\n",
       "      <td>3267600</td>\n",
       "      <td>221800</td>\n",
       "      <td>147238</td>\n",
       "    </tr>\n",
       "    <tr>\n",
       "      <th>11</th>\n",
       "      <td>2017</td>\n",
       "      <td>Dec</td>\n",
       "      <td>3194800</td>\n",
       "      <td>289100</td>\n",
       "      <td>146993</td>\n",
       "    </tr>\n",
       "    <tr>\n",
       "      <th>25</th>\n",
       "      <td>2019</td>\n",
       "      <td>Feb</td>\n",
       "      <td>3189900</td>\n",
       "      <td>748600</td>\n",
       "      <td>148168</td>\n",
       "    </tr>\n",
       "    <tr>\n",
       "      <th>1</th>\n",
       "      <td>2017</td>\n",
       "      <td>Feb</td>\n",
       "      <td>3150500</td>\n",
       "      <td>620200</td>\n",
       "      <td>147866</td>\n",
       "    </tr>\n",
       "    <tr>\n",
       "      <th>13</th>\n",
       "      <td>2018</td>\n",
       "      <td>Feb</td>\n",
       "      <td>3130400</td>\n",
       "      <td>690000</td>\n",
       "      <td>146672</td>\n",
       "    </tr>\n",
       "  </tbody>\n",
       "</table>\n",
       "</div>"
      ],
      "text/plain": [
       "    year month  visitors  convention  roomsavail\n",
       "12  2018   Jan   3393900      612900      146715\n",
       "10  2017   Nov   3300500      530600      146222\n",
       "23  2018   Dec   3267600      221800      147238\n",
       "11  2017   Dec   3194800      289100      146993\n",
       "25  2019   Feb   3189900      748600      148168\n",
       "1   2017   Feb   3150500      620200      147866\n",
       "13  2018   Feb   3130400      690000      146672"
      ]
     },
     "execution_count": 49,
     "metadata": {},
     "output_type": "execute_result"
    }
   ],
   "source": [
    "lv_df2 = lv_sorted[['year', 'month', 'visitors', 'convention', 'roomsavail']]\n",
    "lv_df2.tail(7)"
   ]
  },
  {
   "cell_type": "markdown",
   "id": "bc5323b5",
   "metadata": {},
   "source": [
    "<div class=\"exercise\"><b>Exercise 8</b></div>\n",
    "\n",
    "Obtain a **`Series`** with the average number of visitors, convention, and roomsavail from `lv_df2`, assigning to `avg_vals`.  Print the result.\n",
    "\n",
    "The output from my solution is:<br>\n",
    "<code>\n",
    "visitors      3.521177e+06\n",
    "convention    5.546871e+05\n",
    "roomsavail    1.476232e+05\n",
    "dtype: float64</code>"
   ]
  },
  {
   "cell_type": "code",
   "execution_count": 51,
   "id": "556eedad",
   "metadata": {},
   "outputs": [
    {
     "name": "stdout",
     "output_type": "stream",
     "text": [
      "visitors      3.521177e+06\n",
      "convention    5.546871e+05\n",
      "roomsavail    1.476232e+05\n",
      "dtype: float64\n"
     ]
    }
   ],
   "source": [
    "avg_vals = lv_df2[['visitors', 'convention', 'roomsavail']].agg('mean')\n",
    "print(avg_vals)"
   ]
  },
  {
   "cell_type": "markdown",
   "id": "47d23552",
   "metadata": {},
   "source": [
    "<div class=\"exercise\"><b>Exercise 9</b></div>\n",
    "\n",
    "Compute the average number of visitors, convention, and roomsavail **by year** of `lv_df2` in a `DataFrame` named `avg_vals_year`.  Print the result.\n",
    "\n",
    "The output from my solution is:<br>\n",
    "<code>\n",
    "          visitors     convention     roomsavail\n",
    "year                                            \n",
    "2017  3.517842e+06  553850.000000  147267.500000\n",
    "2018  3.509742e+06  541816.666667  147418.666667\n",
    "2019  3.546500e+06  578185.714286  148583.571429</code>"
   ]
  },
  {
   "cell_type": "code",
   "execution_count": 57,
   "id": "d9590594",
   "metadata": {},
   "outputs": [
    {
     "ename": "SyntaxError",
     "evalue": "unterminated string literal (detected at line 1) (1787805248.py, line 1)",
     "output_type": "error",
     "traceback": [
      "\u001b[1;36m  Cell \u001b[1;32mIn[57], line 1\u001b[1;36m\u001b[0m\n\u001b[1;33m    avg_vals_year = lv_df2.agg({['visitors, 'convention','roomsavail']: ('mean')})\u001b[0m\n\u001b[1;37m                                                                              ^\u001b[0m\n\u001b[1;31mSyntaxError\u001b[0m\u001b[1;31m:\u001b[0m unterminated string literal (detected at line 1)\n"
     ]
    }
   ],
   "source": [
    "avg_vals_year = lv_df2\n",
    "print(avg_vals_year)"
   ]
  },
  {
   "cell_type": "markdown",
   "id": "bbd05000",
   "metadata": {},
   "source": [
    "<div class=\"exercise\"><b>Exercise 10</b></div>\n",
    "\n",
    "Compute the average number of visitors, convention, and roomsavail **by month** of `lv_df2` in a `DataFrame` named `avg_vals_month`.  Print the result.\n",
    "\n",
    "The output from my solution is:<br>\n",
    "<code>\n",
    "           visitors     convention     roomsavail\n",
    "month                                            \n",
    "Apr    3.545033e+06  533033.333333  147824.666667\n",
    "Aug    3.559050e+06  597450.000000  147045.500000\n",
    "Dec    3.231200e+06  255450.000000  147115.500000\n",
    "Feb    3.156933e+06  686266.666667  147568.666667\n",
    "Jan    3.438267e+06  677433.333333  147864.666667\n",
    "Jul    3.711433e+06  471266.666667  147796.333333\n",
    "Jun    3.592833e+06  500300.000000  148174.666667\n",
    "Mar    3.743600e+06  654000.000000  147728.666667\n",
    "May    3.641200e+06  508166.666667  148176.000000\n",
    "Nov    3.389500e+06  571950.000000  146883.500000\n",
    "Oct    3.642450e+06  676400.000000  147090.000000\n",
    "Sep    3.512100e+06  450700.000000  147324.500000</code>"
   ]
  },
  {
   "cell_type": "code",
   "execution_count": null,
   "id": "f6e6e00d",
   "metadata": {},
   "outputs": [],
   "source": []
  }
 ],
 "metadata": {
  "kernelspec": {
   "display_name": "Python [conda env:Attachments]",
   "language": "python",
   "name": "conda-env-Attachments-py"
  },
  "language_info": {
   "codemirror_mode": {
    "name": "ipython",
    "version": 3
   },
   "file_extension": ".py",
   "mimetype": "text/x-python",
   "name": "python",
   "nbconvert_exporter": "python",
   "pygments_lexer": "ipython3",
   "version": "3.12.7"
  }
 },
 "nbformat": 4,
 "nbformat_minor": 5
}
